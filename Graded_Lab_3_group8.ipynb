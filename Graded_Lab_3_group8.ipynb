{
 "cells": [
  {
   "cell_type": "markdown",
   "metadata": {},
   "source": [
    "## DAB200 -- Graded Lab 3\n",
    "\n",
    "In this lab, you will gain some experience in dealing with missing data and further practice converting non-numeric features in a dataset to numeric.\n",
    "\n",
    "**Target**: to predict `Comb Unadj FE - Conventional Fuel`"
   ]
  },
  {
   "cell_type": "markdown",
   "metadata": {},
   "source": [
    "**Data set**: make sure you use the data assigned to your group!\n",
    "\n",
    "| Groups | Data set |\n",
    "| :-: | :-: |\n",
    "| 1-3 | veh14_missing.csv |\n",
    "| 4-5 | veh15_missing.csv |\n",
    "| 6-8 | veh16_missing.csv |\n",
    "| 9-11 | veh17_missing.csv |\n",
    "| 12-14 | veh18_missing.csv |\n",
    "| 15-16 | veh19_missing.csv |\n",
    "\n",
    "**Important Notes:**\n",
    "- Use [Chapter 7](https://mlbook.explained.ai/bulldozer-intro.html) of the textbook as a **guide**:\n",
    "     - you only need to use **random forest** models;\n",
    "- Code submitted for this lab should be:\n",
    "     - error free\n",
    "         - to make sure this is the case, before submitting, close all Jupyter notebooks, exit Anaconda, reload the lab notebook and execute all cells\n",
    "     - final code\n",
    "         - this means that I don't want to see every piece of code you try as you work through this lab but only the final code; only the code that fulfills the objective\n",
    "- Use the **out-of-bag score** to evaluate models\n",
    "     - Read Section 5.2 carefully so that you use this method properly\n",
    "     - The oob score that you provide should be the average of 10 runs\n",
    "- Don't make assumptions!\n"
   ]
  },
  {
   "cell_type": "markdown",
   "metadata": {},
   "source": [
    "### Part 0\n",
    "\n",
    "Please provide the following information:\n",
    " - Group Number - 8 \n",
    " - Group Members\n",
    "     - Vishant Bhatia (0798567)\n",
    "     - Tulaib Bin Ayyub (0789141)\n",
    "     - Faizal Akram Shaikh (0816124)|\n",
    "     - Mahima Mehandiratta (0801962)\n",
    "\n",
    "\n",
    "     "
   ]
  },
  {
   "cell_type": "markdown",
   "metadata": {},
   "source": [
    "### Part 1 - Create and evaluate an initial model\n",
    "\n",
    "In this part you should: \n",
    " - use Section 7.3 of the textbook as a guide, except:\n",
    "     - use all of the data; and\n",
    "     - use 150 decision trees in your random forest models\n",
    " - read in the data\n",
    " - isolate all numeric features from original data set\n",
    " - fill in any missing values with 0\n",
    " - create and evaluate a baseline model \n",
    "\n",
    "#### Code (10 marks)"
   ]
  },
  {
   "cell_type": "code",
   "execution_count": 1,
   "metadata": {},
   "outputs": [],
   "source": [
    "import numpy as np\n",
    "import pandas as pd\n",
    "from sklearn.ensemble import RandomForestClassifier,RandomForestRegressor\n",
    "from sklearn.model_selection import train_test_split\n",
    "from sklearn.metrics import accuracy_score,r2_score\n",
    "from rfpimp import *\n",
    "import math \n",
    "import category_encoders as ce"
   ]
  },
  {
   "cell_type": "code",
   "execution_count": 2,
   "metadata": {},
   "outputs": [],
   "source": [
    "def evaluate(X,y):\n",
    "    oob_score = []\n",
    "    n = []\n",
    "    h = []\n",
    "    for i in range(10):\n",
    "        rf = RandomForestRegressor(n_estimators=150,n_jobs=-1,oob_score=True)\n",
    "        rf.fit(X,y)\n",
    "        oob_score.append(round(rf.oob_score_,5))\n",
    "        n.append(rfnnodes(rf))\n",
    "        h.append(np.median(rfmaxdepths(rf)))\n",
    "        #print(round(rf.score(X,y),6))\n",
    "        print(f'OOB R^2 is {oob_score[i]:.5f} using {n[i]:d} tree nodes with {h[i]} median tree depth')\n",
    "    print(\"--------------------------------------------------------------------------------------\")\n",
    "    print(f'Average of OOB R^2 is {np.mean(oob_score):.5f} using average {math.trunc(round(np.mean(n),0))} tree nodes with average {round(np.mean(h),2)} median tree depth')\n",
    "    return rf, np.mean(oob_score)"
   ]
  },
  {
   "cell_type": "code",
   "execution_count": 3,
   "metadata": {},
   "outputs": [],
   "source": [
    "def showimp(rf,X,y):\n",
    "    feature = list(X.columns)\n",
    "    I = importances(rf,X,y,features=feature)\n",
    "    plot_importances(I,color='#4575b4')"
   ]
  },
  {
   "cell_type": "code",
   "execution_count": 4,
   "metadata": {},
   "outputs": [],
   "source": [
    "def sniff_modified(df):\n",
    "    with pd.option_context(\"display.max_colwidth\", 20):\n",
    "        info = pd.DataFrame()\n",
    "        info['data type'] = df.dtypes\n",
    "        info['percent missing'] = df.isnull().sum()*100/len(df)\n",
    "        info['No. unique'] = df.apply(lambda x: len(x.unique()))\n",
    "        info['unique values'] = df.apply(lambda x: x.unique())\n",
    "        return info.sort_values('data type')"
   ]
  },
  {
   "cell_type": "code",
   "execution_count": 5,
   "metadata": {},
   "outputs": [
    {
     "data": {
      "text/html": [
       "<div>\n",
       "<style scoped>\n",
       "    .dataframe tbody tr th:only-of-type {\n",
       "        vertical-align: middle;\n",
       "    }\n",
       "\n",
       "    .dataframe tbody tr th {\n",
       "        vertical-align: top;\n",
       "    }\n",
       "\n",
       "    .dataframe thead th {\n",
       "        text-align: right;\n",
       "    }\n",
       "</style>\n",
       "<table border=\"1\" class=\"dataframe\">\n",
       "  <thead>\n",
       "    <tr style=\"text-align: right;\">\n",
       "      <th></th>\n",
       "      <th>0</th>\n",
       "      <th>1</th>\n",
       "      <th>2</th>\n",
       "      <th>3</th>\n",
       "      <th>4</th>\n",
       "    </tr>\n",
       "  </thead>\n",
       "  <tbody>\n",
       "    <tr>\n",
       "      <th>Eng Displ</th>\n",
       "      <td>NaN</td>\n",
       "      <td>NaN</td>\n",
       "      <td>1.8</td>\n",
       "      <td>3.5</td>\n",
       "      <td>NaN</td>\n",
       "    </tr>\n",
       "    <tr>\n",
       "      <th># Cyl</th>\n",
       "      <td>4</td>\n",
       "      <td>4</td>\n",
       "      <td>4</td>\n",
       "      <td>6</td>\n",
       "      <td>6</td>\n",
       "    </tr>\n",
       "    <tr>\n",
       "      <th>Comb Unadj FE - Conventional Fuel</th>\n",
       "      <td>32.8729</td>\n",
       "      <td>41.5766</td>\n",
       "      <td>42.3624</td>\n",
       "      <td>29.3963</td>\n",
       "      <td>25.4694</td>\n",
       "    </tr>\n",
       "    <tr>\n",
       "      <th># Gears</th>\n",
       "      <td>6</td>\n",
       "      <td>6</td>\n",
       "      <td>6</td>\n",
       "      <td>6</td>\n",
       "      <td>6</td>\n",
       "    </tr>\n",
       "    <tr>\n",
       "      <th>Max Ethanol % - Gasoline</th>\n",
       "      <td>10.0</td>\n",
       "      <td>10.0</td>\n",
       "      <td>15.0</td>\n",
       "      <td>10.0</td>\n",
       "      <td>85.0</td>\n",
       "    </tr>\n",
       "    <tr>\n",
       "      <th>Intake Valves Per Cyl</th>\n",
       "      <td>2</td>\n",
       "      <td>2</td>\n",
       "      <td>2</td>\n",
       "      <td>2</td>\n",
       "      <td>2</td>\n",
       "    </tr>\n",
       "    <tr>\n",
       "      <th>Exhaust Valves Per Cyl</th>\n",
       "      <td>2</td>\n",
       "      <td>2</td>\n",
       "      <td>2</td>\n",
       "      <td>2</td>\n",
       "      <td>2</td>\n",
       "    </tr>\n",
       "    <tr>\n",
       "      <th>Trans Creeper Gear</th>\n",
       "      <td>N</td>\n",
       "      <td>N</td>\n",
       "      <td>N</td>\n",
       "      <td>N</td>\n",
       "      <td>N</td>\n",
       "    </tr>\n",
       "    <tr>\n",
       "      <th>Unique Label?</th>\n",
       "      <td>N</td>\n",
       "      <td>N</td>\n",
       "      <td>N</td>\n",
       "      <td>N</td>\n",
       "      <td>N</td>\n",
       "    </tr>\n",
       "    <tr>\n",
       "      <th>Air Aspiration Method Desc</th>\n",
       "      <td>Naturally Aspirated</td>\n",
       "      <td>none given</td>\n",
       "      <td>none given</td>\n",
       "      <td>none given</td>\n",
       "      <td>Naturally Aspirated</td>\n",
       "    </tr>\n",
       "    <tr>\n",
       "      <th>Fuel Metering Sys Desc</th>\n",
       "      <td>Multipoint/sequential fuel injection</td>\n",
       "      <td>Spark Ignition Direct Injection</td>\n",
       "      <td>Multipoint/sequential fuel injection</td>\n",
       "      <td>Spark Ignition Direct Injection</td>\n",
       "      <td>Multipoint/sequential fuel injection</td>\n",
       "    </tr>\n",
       "    <tr>\n",
       "      <th>Cyl Deact?</th>\n",
       "      <td>N</td>\n",
       "      <td>N</td>\n",
       "      <td></td>\n",
       "      <td></td>\n",
       "      <td>N</td>\n",
       "    </tr>\n",
       "  </tbody>\n",
       "</table>\n",
       "</div>"
      ],
      "text/plain": [
       "                                                                      0  \\\n",
       "Eng Displ                                                           NaN   \n",
       "# Cyl                                                                 4   \n",
       "Comb Unadj FE - Conventional Fuel                               32.8729   \n",
       "# Gears                                                               6   \n",
       "Max Ethanol % - Gasoline                                           10.0   \n",
       "Intake Valves Per Cyl                                                 2   \n",
       "Exhaust Valves Per Cyl                                                2   \n",
       "Trans Creeper Gear                                                    N   \n",
       "Unique Label?                                                         N   \n",
       "Air Aspiration Method Desc                          Naturally Aspirated   \n",
       "Fuel Metering Sys Desc             Multipoint/sequential fuel injection   \n",
       "Cyl Deact?                                                            N   \n",
       "\n",
       "                                                                 1  \\\n",
       "Eng Displ                                                      NaN   \n",
       "# Cyl                                                            4   \n",
       "Comb Unadj FE - Conventional Fuel                          41.5766   \n",
       "# Gears                                                          6   \n",
       "Max Ethanol % - Gasoline                                      10.0   \n",
       "Intake Valves Per Cyl                                            2   \n",
       "Exhaust Valves Per Cyl                                           2   \n",
       "Trans Creeper Gear                                               N   \n",
       "Unique Label?                                                    N   \n",
       "Air Aspiration Method Desc                              none given   \n",
       "Fuel Metering Sys Desc             Spark Ignition Direct Injection   \n",
       "Cyl Deact?                                                       N   \n",
       "\n",
       "                                                                      2  \\\n",
       "Eng Displ                                                           1.8   \n",
       "# Cyl                                                                 4   \n",
       "Comb Unadj FE - Conventional Fuel                               42.3624   \n",
       "# Gears                                                               6   \n",
       "Max Ethanol % - Gasoline                                           15.0   \n",
       "Intake Valves Per Cyl                                                 2   \n",
       "Exhaust Valves Per Cyl                                                2   \n",
       "Trans Creeper Gear                                                    N   \n",
       "Unique Label?                                                         N   \n",
       "Air Aspiration Method Desc                                   none given   \n",
       "Fuel Metering Sys Desc             Multipoint/sequential fuel injection   \n",
       "Cyl Deact?                                                                \n",
       "\n",
       "                                                                 3  \\\n",
       "Eng Displ                                                      3.5   \n",
       "# Cyl                                                            6   \n",
       "Comb Unadj FE - Conventional Fuel                          29.3963   \n",
       "# Gears                                                          6   \n",
       "Max Ethanol % - Gasoline                                      10.0   \n",
       "Intake Valves Per Cyl                                            2   \n",
       "Exhaust Valves Per Cyl                                           2   \n",
       "Trans Creeper Gear                                               N   \n",
       "Unique Label?                                                    N   \n",
       "Air Aspiration Method Desc                              none given   \n",
       "Fuel Metering Sys Desc             Spark Ignition Direct Injection   \n",
       "Cyl Deact?                                                           \n",
       "\n",
       "                                                                      4  \n",
       "Eng Displ                                                           NaN  \n",
       "# Cyl                                                                 6  \n",
       "Comb Unadj FE - Conventional Fuel                               25.4694  \n",
       "# Gears                                                               6  \n",
       "Max Ethanol % - Gasoline                                           85.0  \n",
       "Intake Valves Per Cyl                                                 2  \n",
       "Exhaust Valves Per Cyl                                                2  \n",
       "Trans Creeper Gear                                                    N  \n",
       "Unique Label?                                                         N  \n",
       "Air Aspiration Method Desc                          Naturally Aspirated  \n",
       "Fuel Metering Sys Desc             Multipoint/sequential fuel injection  \n",
       "Cyl Deact?                                                            N  "
      ]
     },
     "execution_count": 5,
     "metadata": {},
     "output_type": "execute_result"
    }
   ],
   "source": [
    "df_veh = pd.read_csv(\"veh16_missing.csv\")\n",
    "df_veh.head().T"
   ]
  },
  {
   "cell_type": "code",
   "execution_count": 6,
   "metadata": {},
   "outputs": [
    {
     "data": {
      "text/plain": [
       "(1213, 12)"
      ]
     },
     "execution_count": 6,
     "metadata": {},
     "output_type": "execute_result"
    }
   ],
   "source": [
    "df_veh.shape"
   ]
  },
  {
   "cell_type": "code",
   "execution_count": 7,
   "metadata": {},
   "outputs": [
    {
     "name": "stdout",
     "output_type": "stream",
     "text": [
      "<class 'pandas.core.frame.DataFrame'>\n",
      "RangeIndex: 1213 entries, 0 to 1212\n",
      "Data columns (total 12 columns):\n",
      " #   Column                             Non-Null Count  Dtype  \n",
      "---  ------                             --------------  -----  \n",
      " 0   Eng Displ                          845 non-null    float64\n",
      " 1   # Cyl                              1213 non-null   int64  \n",
      " 2   Comb Unadj FE - Conventional Fuel  1213 non-null   object \n",
      " 3   # Gears                            1213 non-null   int64  \n",
      " 4   Max Ethanol % - Gasoline           1187 non-null   float64\n",
      " 5   Intake Valves Per Cyl              1213 non-null   int64  \n",
      " 6   Exhaust Valves Per Cyl             1213 non-null   int64  \n",
      " 7   Trans Creeper Gear                 1213 non-null   object \n",
      " 8   Unique Label?                      1136 non-null   object \n",
      " 9   Air Aspiration Method Desc         1213 non-null   object \n",
      " 10  Fuel Metering Sys Desc             1213 non-null   object \n",
      " 11  Cyl Deact?                         985 non-null    object \n",
      "dtypes: float64(2), int64(4), object(6)\n",
      "memory usage: 113.8+ KB\n"
     ]
    }
   ],
   "source": [
    "df_veh.info()"
   ]
  },
  {
   "cell_type": "code",
   "execution_count": 8,
   "metadata": {},
   "outputs": [
    {
     "data": {
      "text/html": [
       "<div>\n",
       "<style scoped>\n",
       "    .dataframe tbody tr th:only-of-type {\n",
       "        vertical-align: middle;\n",
       "    }\n",
       "\n",
       "    .dataframe tbody tr th {\n",
       "        vertical-align: top;\n",
       "    }\n",
       "\n",
       "    .dataframe thead th {\n",
       "        text-align: right;\n",
       "    }\n",
       "</style>\n",
       "<table border=\"1\" class=\"dataframe\">\n",
       "  <thead>\n",
       "    <tr style=\"text-align: right;\">\n",
       "      <th></th>\n",
       "      <th>Eng Displ</th>\n",
       "      <th># Cyl</th>\n",
       "      <th># Gears</th>\n",
       "      <th>Max Ethanol % - Gasoline</th>\n",
       "      <th>Intake Valves Per Cyl</th>\n",
       "      <th>Exhaust Valves Per Cyl</th>\n",
       "    </tr>\n",
       "  </thead>\n",
       "  <tbody>\n",
       "    <tr>\n",
       "      <th>count</th>\n",
       "      <td>845.000000</td>\n",
       "      <td>1213.000000</td>\n",
       "      <td>1213.000000</td>\n",
       "      <td>1187.000000</td>\n",
       "      <td>1213.000000</td>\n",
       "      <td>1213.000000</td>\n",
       "    </tr>\n",
       "    <tr>\n",
       "      <th>mean</th>\n",
       "      <td>3.053373</td>\n",
       "      <td>5.629019</td>\n",
       "      <td>6.510305</td>\n",
       "      <td>15.572873</td>\n",
       "      <td>1.927453</td>\n",
       "      <td>1.921682</td>\n",
       "    </tr>\n",
       "    <tr>\n",
       "      <th>std</th>\n",
       "      <td>1.339220</td>\n",
       "      <td>1.846649</td>\n",
       "      <td>1.429048</td>\n",
       "      <td>17.385143</td>\n",
       "      <td>0.259499</td>\n",
       "      <td>0.268783</td>\n",
       "    </tr>\n",
       "    <tr>\n",
       "      <th>min</th>\n",
       "      <td>0.900000</td>\n",
       "      <td>3.000000</td>\n",
       "      <td>1.000000</td>\n",
       "      <td>10.000000</td>\n",
       "      <td>1.000000</td>\n",
       "      <td>1.000000</td>\n",
       "    </tr>\n",
       "    <tr>\n",
       "      <th>25%</th>\n",
       "      <td>2.000000</td>\n",
       "      <td>4.000000</td>\n",
       "      <td>6.000000</td>\n",
       "      <td>10.000000</td>\n",
       "      <td>2.000000</td>\n",
       "      <td>2.000000</td>\n",
       "    </tr>\n",
       "    <tr>\n",
       "      <th>50%</th>\n",
       "      <td>3.000000</td>\n",
       "      <td>6.000000</td>\n",
       "      <td>6.000000</td>\n",
       "      <td>10.000000</td>\n",
       "      <td>2.000000</td>\n",
       "      <td>2.000000</td>\n",
       "    </tr>\n",
       "    <tr>\n",
       "      <th>75%</th>\n",
       "      <td>3.600000</td>\n",
       "      <td>6.000000</td>\n",
       "      <td>8.000000</td>\n",
       "      <td>15.000000</td>\n",
       "      <td>2.000000</td>\n",
       "      <td>2.000000</td>\n",
       "    </tr>\n",
       "    <tr>\n",
       "      <th>max</th>\n",
       "      <td>8.400000</td>\n",
       "      <td>12.000000</td>\n",
       "      <td>9.000000</td>\n",
       "      <td>85.000000</td>\n",
       "      <td>2.000000</td>\n",
       "      <td>2.000000</td>\n",
       "    </tr>\n",
       "  </tbody>\n",
       "</table>\n",
       "</div>"
      ],
      "text/plain": [
       "        Eng Displ        # Cyl      # Gears  Max Ethanol % - Gasoline  \\\n",
       "count  845.000000  1213.000000  1213.000000               1187.000000   \n",
       "mean     3.053373     5.629019     6.510305                 15.572873   \n",
       "std      1.339220     1.846649     1.429048                 17.385143   \n",
       "min      0.900000     3.000000     1.000000                 10.000000   \n",
       "25%      2.000000     4.000000     6.000000                 10.000000   \n",
       "50%      3.000000     6.000000     6.000000                 10.000000   \n",
       "75%      3.600000     6.000000     8.000000                 15.000000   \n",
       "max      8.400000    12.000000     9.000000                 85.000000   \n",
       "\n",
       "       Intake Valves Per Cyl  Exhaust Valves Per Cyl  \n",
       "count            1213.000000             1213.000000  \n",
       "mean                1.927453                1.921682  \n",
       "std                 0.259499                0.268783  \n",
       "min                 1.000000                1.000000  \n",
       "25%                 2.000000                2.000000  \n",
       "50%                 2.000000                2.000000  \n",
       "75%                 2.000000                2.000000  \n",
       "max                 2.000000                2.000000  "
      ]
     },
     "execution_count": 8,
     "metadata": {},
     "output_type": "execute_result"
    }
   ],
   "source": [
    "df_veh.describe()"
   ]
  },
  {
   "cell_type": "code",
   "execution_count": 9,
   "metadata": {},
   "outputs": [
    {
     "data": {
      "text/plain": [
       "array([nan, 1.8, 3.5, 3.4, 2.5, 2. , 6.3, 6.2, 1.5, 3. , 1.4, 3.6, 6.7,\n",
       "       4. , 1.6, 2.4, 6.5, 2.7, 5. , 3.7, 6. , 3.8, 5.7, 5.5, 5.9, 1. ,\n",
       "       6.4, 4.7, 5.3, 2.8, 0.9, 3.3, 4.6, 4.4, 5.2, 4.3, 4.8, 3.9, 6.6,\n",
       "       2.3, 8.4, 5.6, 6.8])"
      ]
     },
     "execution_count": 9,
     "metadata": {},
     "output_type": "execute_result"
    }
   ],
   "source": [
    "df_veh['Eng Displ'].unique()"
   ]
  },
  {
   "cell_type": "code",
   "execution_count": 10,
   "metadata": {},
   "outputs": [
    {
     "data": {
      "text/plain": [
       "array([ 4,  6, 12,  8,  3, 10,  5], dtype=int64)"
      ]
     },
     "execution_count": 10,
     "metadata": {},
     "output_type": "execute_result"
    }
   ],
   "source": [
    "df_veh['# Cyl'].unique()"
   ]
  },
  {
   "cell_type": "code",
   "execution_count": 11,
   "metadata": {},
   "outputs": [
    {
     "data": {
      "text/plain": [
       "array([6, 8, 7, 9, 5, 1, 4], dtype=int64)"
      ]
     },
     "execution_count": 11,
     "metadata": {},
     "output_type": "execute_result"
    }
   ],
   "source": [
    "df_veh['# Gears'].unique()"
   ]
  },
  {
   "cell_type": "code",
   "execution_count": 12,
   "metadata": {},
   "outputs": [
    {
     "data": {
      "text/plain": [
       "array([10., 15., 85., nan])"
      ]
     },
     "execution_count": 12,
     "metadata": {},
     "output_type": "execute_result"
    }
   ],
   "source": [
    "df_veh['Max Ethanol % - Gasoline'].unique()"
   ]
  },
  {
   "cell_type": "code",
   "execution_count": 13,
   "metadata": {},
   "outputs": [
    {
     "data": {
      "text/plain": [
       "array([2, 1], dtype=int64)"
      ]
     },
     "execution_count": 13,
     "metadata": {},
     "output_type": "execute_result"
    }
   ],
   "source": [
    "df_veh['Intake Valves Per Cyl'].unique()"
   ]
  },
  {
   "cell_type": "code",
   "execution_count": 14,
   "metadata": {},
   "outputs": [
    {
     "data": {
      "text/plain": [
       "array([2, 1], dtype=int64)"
      ]
     },
     "execution_count": 14,
     "metadata": {},
     "output_type": "execute_result"
    }
   ],
   "source": [
    "df_veh['Exhaust Valves Per Cyl'].unique()"
   ]
  },
  {
   "cell_type": "code",
   "execution_count": 15,
   "metadata": {},
   "outputs": [
    {
     "data": {
      "text/plain": [
       "array(['32.8729', '41.5766', '42.3624', '29.3963', '25.4694', '27.9923',\n",
       "       '25.6217', '28.7955', '25.5194', '36.1046', '42.6092', '36.0247',\n",
       "       '25.1277', '27.925', '31.0325', '34.7404', '28.044', '17.0002',\n",
       "       '32.9334', '22.0201', '21.6821', '43.1463', '31.0576', '29.8129',\n",
       "       '27.723', '33.7222', '30.4958', '47.715', '18.7023', '40.434',\n",
       "       '33.1491', '20.076', '29.3854', '21.0918', '17.4989', '34.2453',\n",
       "       '36.703', '30.722', '36.4494', '46.403', '21.7662', '22.577',\n",
       "       '28.7377', '19.0572', '39.9942', '22.3336', '36.5144', '33.0335',\n",
       "       '23.4292', '16.2581', '25.263', '21.2882', '34.2607', '19.7548',\n",
       "       '31.9339', '34.3738', '26.7662', '29.8923', '50.1953', '38.0027',\n",
       "       '31.9024', '42.8024', '35.3153', '34.7884', '46.6393', '40.0936',\n",
       "       '35.8215', '33.9853', '25.6832', '27.3233', '38.6615', '17.2204',\n",
       "       '40.4893', '37.46', '29.4792', '26.3559', '30.2755', '28.5872',\n",
       "       '34.858', '31.4586', '26.2931', '37.7104', '25.5795', '26.1317',\n",
       "       '22.8351', '20.7441', '31.524', '28.0618', '19.0009', '28.4872',\n",
       "       '36.7729', '31.5846', '31.3542', '57.4981', '47.9062', '29.6903',\n",
       "       '15.9434', '40.7884', '19.4738', '30.071', '73.9715', '21.4008',\n",
       "       '28.2451', '19.0631', '24.6374', '34.0888', '33.9305', '35.4089',\n",
       "       '24.7961', '29.4319', '26.2333', '25.5781', '44.8007', '40.7561',\n",
       "       '19.2488', '54.9862', '15.0373', '29.3454', '36.7702', 'Mod',\n",
       "       '24.4655', '40.9252', '36.1495', '38.0851', '19.7148', '26.1394',\n",
       "       '34.9149', '40.4766', '40.1673', '36.7711', '42.1145', '23.9079',\n",
       "       '27.2296', '24.0623', '37.0001', '25.0855', '39.1294', '43.9612',\n",
       "       '24.1148', '41.7113', '19.4', '57.4438', '25.9542', '34.4702',\n",
       "       '58.137', '36.2351', '48.3501', '32.3011', '23.4876', '20.0858',\n",
       "       '20.5806', '23.0686', '23.3029', '60.7663', '40.6667', '37.0727',\n",
       "       '25.2918', '24.9756', '27.5271', '29.9044', '20.3611', '28.6571',\n",
       "       '29.5548', '22.5528', '33.5228', '31.7073', '23.7062', '35.8588',\n",
       "       '23.7057', '33.8444', '20.7274', '38.7615', '35.4387', '32.3839',\n",
       "       '33.7239', '26.4254', '30.386', '47.9309', '26.6947', '23.8253',\n",
       "       '23.9231', '33.6531', '36.5318', '40.402', '27.1333', '36.3569',\n",
       "       '26.4165', '23.552', '26.8467', '30.1701', '31.3949', '22.9319',\n",
       "       '25.7642', '23.9191', '30.8317', '39.0171', '38.8882', '21.3053',\n",
       "       '25.8927', '28.9863', '31.1683', '28.0884', '32.1877', '36.8664',\n",
       "       '36.4714', '32.3693', '31.6054', '41.3417', '25.1945', '27.893',\n",
       "       '24.9505', '18.5388', '36.0136', '39.3042', '37.1407', '25.0428',\n",
       "       '28.6582', '29.7169', '24.1988', '32.4015', '27.3812', '31.5042',\n",
       "       '24.9737', '20.2436', '30.8919', '23.7426', '26.1804', '46.2043',\n",
       "       '27.4553', '28.9841', '26.9652', '28.9989', '31.8522', '23.1471',\n",
       "       '30.5489', '22.3814', '36.2994', '38.547', '27.0634', '41.3224',\n",
       "       '23.8458', '39.7459', '28.0689', '27.3539', '32.2322', '21.7078',\n",
       "       '28.3245', '33.1162', '29.1587', '29.5284', '32.6906', '30.9621',\n",
       "       '23.763', '46.0738', '36.7597', '35.7394', '34.2039', '26.7546',\n",
       "       '40.8578', '24.7318', '24.2609', '27.9311', '40.4989', '29.8745',\n",
       "       '28.5768', '24.1231', '37.4744', '29.7663', '21.2378', '33.4779',\n",
       "       '28.5088', '34.2582', '35.7883', '18.7055', '26.5587', '21.06',\n",
       "       '47.3206', '19.9146', '27.678', '31.4377', '30.2321', '19.4794',\n",
       "       '31.0006', '30.7316', '41.8183', '27.4358', '20.4316', '38.8168',\n",
       "       '23.7318', '23.2231', '32.9102', '43.5134', '23.5293', '42.6986',\n",
       "       '38.8263', '27.0717', '34.8913', '43.137', '32.32', '22.6993',\n",
       "       '24.9612', '20.0593', '35.694', '18.4432', '44.938', '27.1345',\n",
       "       '39.4158', '29.9289', '29.3442', '39.0686', '30.0445', '24.6108',\n",
       "       '41.8682', '24.0347', '22.7512', '41.3187', '25.3471', '28.5587',\n",
       "       '32.2641', '29.9288', '38.6695', '51.5229', '36.5584', '30.7928',\n",
       "       '25.8034', '26.8436', '20.4256', '28.5339', '33.2017', '25.4725',\n",
       "       '28.921', '30.168', '37.6194', '34.3094', '21.8546', '38.1848',\n",
       "       '29.5465', '32.5607', '41.6347', '36.5912', '28.1856', '23.1399',\n",
       "       '19.5485', '23.7927', '22.8165', '30.622', '28.6337', '54.8519',\n",
       "       '24.2977', '24.9615', '31.6705', '28.8146', '40.2056', '22.9366',\n",
       "       '33.8583', '35.359', '46.0818', '22.0572', '27.1227', '59.6009',\n",
       "       '23.9658', '22.6895', '30.8233', '25.8816', '39.8798', '23.1232',\n",
       "       '24.3456', '23.5269', '24.887', '39.083', '58.9105', '19.7604',\n",
       "       '21.6822', '40.9182', '37.4408', '30.8707', '21.3382', '41.1988',\n",
       "       '39.3024', '28.7688', '46.9885', '30.2138', '22.6459', '33.1552',\n",
       "       '26.8876', '45.9695', '28.5121', '37.529', '24.4063', '38.3493',\n",
       "       '30.8483', '29.3225', '32.3213', '21.702', '37.6361', '34.184',\n",
       "       '21.7336', '24.9252', '25.6629', '21.6422', '17.0498', '29.8465',\n",
       "       '24.655', '26.1655', '38.9115', '32.3286', '40.7139', '25.6932',\n",
       "       '47.363', '27.5021', '22.0647', '31.6963', '27.4482', '28.1409',\n",
       "       '25.0571', '29.2127', '25.485', '33.032', '23.6182', '28.1669',\n",
       "       '27.4306', '32.565', '46.0415', '38.567', '27.5924', '38.5928',\n",
       "       '23.5286', '28.5257', '32.6193', '34.817', '28.3804', '29.9106',\n",
       "       '24.3967', '31.5932', '23.567', '38.9275', '28.1632', '29.1837',\n",
       "       '19.5895', '28.0295', '35.4975', '26.033', '30.5942', '38.9219',\n",
       "       '29.5685', '23.2683', '30.0196', '33.7698', '27.3649', '23.8945',\n",
       "       '31.1365', '31.4223', '37.0547', '40.9289', '36.0919', '39.4295',\n",
       "       '26.659', '23.9906', '30.429', '42.0623', '28.1137', '33.8504',\n",
       "       '37.1622', '41.3746', '35.71', '43.0468', '33.001', '18.9828',\n",
       "       '61.4574', '56.3403', '26.988', '35.1626', '44.8342', '29.1735',\n",
       "       '35.3856', '15.7566', '34.991', '36.9738', '23.9504', '21.4598',\n",
       "       '38.8602', '40.96', '16.2512', '24.8373', '40.5462', '37.0863',\n",
       "       '39.4406', '30.5524', '23.737', '34.1594', '36.0232', '28.0306',\n",
       "       '28.1715', '33.9441', '27.0543', '42.4116', '32.4219', '27.812',\n",
       "       '36.2224', '27.2124', '21.3254', '33.686', '34.5467', '37.6174',\n",
       "       '18.1658', '23.5618', '26.7724', '33.1643', '38.1901', '31.1634',\n",
       "       '30.8097', '25.6153', '22.8851', '21.0349', '42.9466', '26.7073',\n",
       "       '24.3481', '29.0083', '22.9603', '17.4353', '21.7207', '39.6509',\n",
       "       '80.8472', '36.4112', '29.8385', '24.911', '33.1767', '21.5645',\n",
       "       '32.6493', '28.9732', '35.5079', '29.0058', '33.2132', '27.5527',\n",
       "       '43.1946', '47.3261', '25.9349', '37.3048', '22.8629', '20.657',\n",
       "       '41.1267', '24.2684', '36.5569', '43.9632', '33.5308', '42.2753',\n",
       "       '32.5198', '35.1555', '26.9606', '31.7452', '27.2521', '30.0255',\n",
       "       '32.9256', '20.9595', '28.8255', '16.7727', '28.7492', '32.2297',\n",
       "       '33.0657', '20.5262', '36.6205', '19.4895', '27.428', '28.3376',\n",
       "       '49.569', '23.2098', '23.2927', '39.1304', '37.2161', '26.78',\n",
       "       '38.8661', '42.1307', '24.9479', '23.8378', '33.7774', '32.2136',\n",
       "       '25.9449', '29.7274', '27.9589', '32.6621', '32.1625', '41.8441',\n",
       "       '27.8973', '38.9194', '39.4874', '38.1099', '20.7975', '26.9163',\n",
       "       '42.4665', '15.4573', '42.0163', '43.5383', '40.9298', '33.1927',\n",
       "       '35.4215', '29.9555', '15.9811', '18.915', '23.4963', '37.8655',\n",
       "       '33.9408', '30.4629', '28.3382', '28.4429', '27.1836', '45.1318',\n",
       "       '28.0246', '34.1618', '37.4089', '24.0788', '45.8707', '19.9778',\n",
       "       '41.221', '23.6078', '25.5255', '41.7513', '27.6266', '24.9197',\n",
       "       '31.3529', '26.843', '29.5668', '41.1333', '36.5517', '29.5387',\n",
       "       '25.9196', '34.7393', '32.5902', '34.7341', '43.5074', '17.1546',\n",
       "       '16.7215', '19.3314', '46.8014', '35.4141', '21.6933', '35.8565',\n",
       "       '41.2528', '39.1805', '21.2675', '28.1984', '35.9078', '31.1731',\n",
       "       '24.3785', '30.6586', '33.1474', '27.172', '21.9302', '23.961',\n",
       "       '25.3158', '38.2932', '24.6534', '44.7387', '29.1624', '43.7538',\n",
       "       '49.8286', '29.6747', '35.1617', '29.4795', '31.1732', '25.5474',\n",
       "       '26.4728', '34.9238', '30.0156', '44.7932', '55.2009', '19.3741',\n",
       "       '15.7691', '38.0961', '34.4707', '35.9089', '25.3494', '46.2524',\n",
       "       '40.385', '25.6842', '23.3561', '32.561', '27.2096', '50.4312',\n",
       "       '30.5156', '33.1457', '25.4318', '27.7568', '37.7023', '21.054',\n",
       "       '31.2766', '29.51', '34.048', '33.045', '48.0282', '30.7045',\n",
       "       '46.7886', '14.8481', '29.1557', '15.7502', '25.2803', '24.4714',\n",
       "       '22.1657', '23.6574', '29.6193', '25.2242', '17.7814', '26.1927',\n",
       "       '30.0782', '24.8658', '32.7935', '47.2984', '33.6298', '41.2163',\n",
       "       '22.0571', '21.4943', '24.3378', '25.6229', '40.7746', '36.3177',\n",
       "       '19.1822', '40.0906', '26.4753', '28.7947', '29.5908', '35.9721',\n",
       "       '19.716', '33.6611', '29.6067', '20.288', '25.7561', '30.324',\n",
       "       '35.729', '41.7031', '25.257', '51.1079', '26.2856', '38.8724',\n",
       "       '25.4865', '40.0888', '23.9679', '26.6838', '26.3815', '23.0968',\n",
       "       '26.8477', '31.5496', '38.2124', '43.8888', '31.3984', '40.9725',\n",
       "       '29.3003', '24.1401', '32.9383', '25.4716', '23.7078', '33.1287',\n",
       "       '29.6672', '16.5736', '41.9449', '31.7256', '17.2283', '31.2523',\n",
       "       '30.4846', '38.0792', '37.4789', '24.821', '31.1626', '24.216',\n",
       "       '21.236', '23.1842', '36.4983', '40.262', '34.3969', '35.674',\n",
       "       '19.4396', '33.5766', '26.9372', '23.7577', '26.9813', '32.9693',\n",
       "       '24.3451', '43.7586', '26.6055', '37.5834', '25.7513', '28.1841',\n",
       "       '42.4765', '28.0575', '26.2833', '28.1837', '38.7069', '24.4234',\n",
       "       '30.4957', '32.3228', '37.5265', '31.5863', '21.9194', '28.1423',\n",
       "       '20.8591', '43.5178', '32.374', '36.1537', '40.022', '29.9713',\n",
       "       '23.6806', '23.6948', '21.1487', '38.2242', '35.2361', '22.7871',\n",
       "       '32.8549', '24.041', '21.9258', '28.514', '19.7608', '28.9693',\n",
       "       '28.7819', '45.1334', '26.1873', '32.2692', '28.0684', '33.7787',\n",
       "       '30.9403', '31.9813', '44.3586', '37.1059', '33.5999', '28.5578',\n",
       "       '29.3634', '30.8134', '37.2657', '40.8125', '28.4267', '20.6362',\n",
       "       '22.34', '30.9081', '28.6649', '21.6811', '21.394', '32.6673',\n",
       "       '36.3872', '33.6514', '32.287', '28.7394', '34.8632', '20.4058',\n",
       "       '25.707', '44.0972', '22.5584', '26.7474', '27.6702', '38.7501',\n",
       "       '25.0798', '34.1029', '20.0004', '40.5501', '32.3356', '34.3746',\n",
       "       '25.7502', '23.2243', '26.9406', '25.9414', '34.1212', '36.265',\n",
       "       '40.4492', '30.4167', '26.8613', '24.6105', '25.9717', '35.1828',\n",
       "       '23.9236', '29.8142', '24.9037', '22.7455', '23.4849', '33.5991',\n",
       "       '35.3768', '32.2154', '34.8745', '43.4096', '44.3543', '28.1384',\n",
       "       '26.3918', '18.3331', '41.1251', '28.5513', '38.2167', '70.7819',\n",
       "       '38.2417', '18.7088', '26.8422', '22.859', '42.9332', '26.8581',\n",
       "       '18.1901', '28.7162', '37.7617', '30.1071', '33.7274', '24.3943',\n",
       "       '29.9285', '33.5764', '44.3685', '25.0911', '23.3803', '35.1331',\n",
       "       '29.3086', '38.3003', '25.9443', '35.4451', '40.8472', '33.5824',\n",
       "       '20.8619', '28.1656', '26.8575', '34.7953', '28.8162', '27.8144',\n",
       "       '20.8515', '26.8159', '26.2202', '39.0069', '28.9051', '24.0412',\n",
       "       '38.1862', '29.965', '23.7353', '34.844', '50.1999', '50.3669',\n",
       "       '31.647', '38.1292', '27.1045', '26.3588', '38.6792', '27.5097'],\n",
       "      dtype=object)"
      ]
     },
     "execution_count": 15,
     "metadata": {},
     "output_type": "execute_result"
    }
   ],
   "source": [
    "df_veh['Comb Unadj FE - Conventional Fuel'].unique() # we have \"Mod\" in this "
   ]
  },
  {
   "cell_type": "code",
   "execution_count": 16,
   "metadata": {},
   "outputs": [
    {
     "data": {
      "text/html": [
       "<div>\n",
       "<style scoped>\n",
       "    .dataframe tbody tr th:only-of-type {\n",
       "        vertical-align: middle;\n",
       "    }\n",
       "\n",
       "    .dataframe tbody tr th {\n",
       "        vertical-align: top;\n",
       "    }\n",
       "\n",
       "    .dataframe thead th {\n",
       "        text-align: right;\n",
       "    }\n",
       "</style>\n",
       "<table border=\"1\" class=\"dataframe\">\n",
       "  <thead>\n",
       "    <tr style=\"text-align: right;\">\n",
       "      <th></th>\n",
       "      <th>Eng Displ</th>\n",
       "      <th># Cyl</th>\n",
       "      <th>Comb Unadj FE - Conventional Fuel</th>\n",
       "      <th># Gears</th>\n",
       "      <th>Max Ethanol % - Gasoline</th>\n",
       "      <th>Intake Valves Per Cyl</th>\n",
       "      <th>Exhaust Valves Per Cyl</th>\n",
       "      <th>Trans Creeper Gear</th>\n",
       "      <th>Unique Label?</th>\n",
       "      <th>Air Aspiration Method Desc</th>\n",
       "      <th>Fuel Metering Sys Desc</th>\n",
       "      <th>Cyl Deact?</th>\n",
       "    </tr>\n",
       "  </thead>\n",
       "  <tbody>\n",
       "    <tr>\n",
       "      <th>124</th>\n",
       "      <td>3.0</td>\n",
       "      <td>6</td>\n",
       "      <td>Mod</td>\n",
       "      <td>8</td>\n",
       "      <td>NaN</td>\n",
       "      <td>2</td>\n",
       "      <td>2</td>\n",
       "      <td>N</td>\n",
       "      <td>N</td>\n",
       "      <td>none given</td>\n",
       "      <td>Common Rail Direct Diesel Injection</td>\n",
       "      <td></td>\n",
       "    </tr>\n",
       "    <tr>\n",
       "      <th>863</th>\n",
       "      <td>3.0</td>\n",
       "      <td>6</td>\n",
       "      <td>Mod</td>\n",
       "      <td>8</td>\n",
       "      <td>NaN</td>\n",
       "      <td>2</td>\n",
       "      <td>2</td>\n",
       "      <td>N</td>\n",
       "      <td>N</td>\n",
       "      <td>Turbocharged</td>\n",
       "      <td>@@@@@</td>\n",
       "      <td>N</td>\n",
       "    </tr>\n",
       "    <tr>\n",
       "      <th>878</th>\n",
       "      <td>NaN</td>\n",
       "      <td>6</td>\n",
       "      <td>Mod</td>\n",
       "      <td>8</td>\n",
       "      <td>NaN</td>\n",
       "      <td>2</td>\n",
       "      <td>2</td>\n",
       "      <td>N</td>\n",
       "      <td>N</td>\n",
       "      <td>Turbocharged</td>\n",
       "      <td>Common Rail Direct Diesel Injection</td>\n",
       "      <td></td>\n",
       "    </tr>\n",
       "  </tbody>\n",
       "</table>\n",
       "</div>"
      ],
      "text/plain": [
       "     Eng Displ  # Cyl Comb Unadj FE - Conventional Fuel  # Gears  \\\n",
       "124        3.0      6                               Mod        8   \n",
       "863        3.0      6                               Mod        8   \n",
       "878        NaN      6                               Mod        8   \n",
       "\n",
       "     Max Ethanol % - Gasoline  Intake Valves Per Cyl  Exhaust Valves Per Cyl  \\\n",
       "124                       NaN                      2                       2   \n",
       "863                       NaN                      2                       2   \n",
       "878                       NaN                      2                       2   \n",
       "\n",
       "    Trans Creeper Gear Unique Label? Air Aspiration Method Desc  \\\n",
       "124                  N             N                 none given   \n",
       "863                  N             N               Turbocharged   \n",
       "878                  N             N               Turbocharged   \n",
       "\n",
       "                  Fuel Metering Sys Desc Cyl Deact?  \n",
       "124  Common Rail Direct Diesel Injection             \n",
       "863                                @@@@@          N  \n",
       "878  Common Rail Direct Diesel Injection             "
      ]
     },
     "execution_count": 16,
     "metadata": {},
     "output_type": "execute_result"
    }
   ],
   "source": [
    "df_veh.loc[df_veh[\"Comb Unadj FE - Conventional Fuel\"]=='Mod']"
   ]
  },
  {
   "cell_type": "markdown",
   "metadata": {},
   "source": [
    "### In 'Comb Unadj FE - Conventional Fuel' column we have 'Mod' so, we are removing those rows."
   ]
  },
  {
   "cell_type": "code",
   "execution_count": 17,
   "metadata": {},
   "outputs": [],
   "source": [
    "df_veh.drop([124,863,878],inplace=True) # Removing rows"
   ]
  },
  {
   "cell_type": "code",
   "execution_count": 18,
   "metadata": {},
   "outputs": [],
   "source": [
    "df_veh['Comb Unadj FE - Conventional Fuel'] = df_veh['Comb Unadj FE - Conventional Fuel'].astype(float)"
   ]
  },
  {
   "cell_type": "code",
   "execution_count": 19,
   "metadata": {},
   "outputs": [
    {
     "name": "stdout",
     "output_type": "stream",
     "text": [
      "<class 'pandas.core.frame.DataFrame'>\n",
      "Int64Index: 1210 entries, 0 to 1212\n",
      "Data columns (total 12 columns):\n",
      " #   Column                             Non-Null Count  Dtype  \n",
      "---  ------                             --------------  -----  \n",
      " 0   Eng Displ                          843 non-null    float64\n",
      " 1   # Cyl                              1210 non-null   int64  \n",
      " 2   Comb Unadj FE - Conventional Fuel  1210 non-null   float64\n",
      " 3   # Gears                            1210 non-null   int64  \n",
      " 4   Max Ethanol % - Gasoline           1187 non-null   float64\n",
      " 5   Intake Valves Per Cyl              1210 non-null   int64  \n",
      " 6   Exhaust Valves Per Cyl             1210 non-null   int64  \n",
      " 7   Trans Creeper Gear                 1210 non-null   object \n",
      " 8   Unique Label?                      1133 non-null   object \n",
      " 9   Air Aspiration Method Desc         1210 non-null   object \n",
      " 10  Fuel Metering Sys Desc             1210 non-null   object \n",
      " 11  Cyl Deact?                         982 non-null    object \n",
      "dtypes: float64(3), int64(4), object(5)\n",
      "memory usage: 122.9+ KB\n"
     ]
    }
   ],
   "source": [
    "df_veh.info()"
   ]
  },
  {
   "cell_type": "code",
   "execution_count": 21,
   "metadata": {},
   "outputs": [],
   "source": [
    "# Creating copy\n",
    "df_veh_copy_part1 = df_veh.copy()"
   ]
  },
  {
   "cell_type": "code",
   "execution_count": 22,
   "metadata": {},
   "outputs": [
    {
     "data": {
      "text/html": [
       "<div>\n",
       "<style scoped>\n",
       "    .dataframe tbody tr th:only-of-type {\n",
       "        vertical-align: middle;\n",
       "    }\n",
       "\n",
       "    .dataframe tbody tr th {\n",
       "        vertical-align: top;\n",
       "    }\n",
       "\n",
       "    .dataframe thead th {\n",
       "        text-align: right;\n",
       "    }\n",
       "</style>\n",
       "<table border=\"1\" class=\"dataframe\">\n",
       "  <thead>\n",
       "    <tr style=\"text-align: right;\">\n",
       "      <th></th>\n",
       "      <th>0</th>\n",
       "      <th>1</th>\n",
       "      <th>2</th>\n",
       "      <th>3</th>\n",
       "      <th>4</th>\n",
       "    </tr>\n",
       "  </thead>\n",
       "  <tbody>\n",
       "    <tr>\n",
       "      <th>Eng Displ</th>\n",
       "      <td>NaN</td>\n",
       "      <td>NaN</td>\n",
       "      <td>1.8</td>\n",
       "      <td>3.5</td>\n",
       "      <td>NaN</td>\n",
       "    </tr>\n",
       "    <tr>\n",
       "      <th># Cyl</th>\n",
       "      <td>4</td>\n",
       "      <td>4</td>\n",
       "      <td>4</td>\n",
       "      <td>6</td>\n",
       "      <td>6</td>\n",
       "    </tr>\n",
       "    <tr>\n",
       "      <th>Comb Unadj FE - Conventional Fuel</th>\n",
       "      <td>32.8729</td>\n",
       "      <td>41.5766</td>\n",
       "      <td>42.3624</td>\n",
       "      <td>29.3963</td>\n",
       "      <td>25.4694</td>\n",
       "    </tr>\n",
       "    <tr>\n",
       "      <th># Gears</th>\n",
       "      <td>6</td>\n",
       "      <td>6</td>\n",
       "      <td>6</td>\n",
       "      <td>6</td>\n",
       "      <td>6</td>\n",
       "    </tr>\n",
       "    <tr>\n",
       "      <th>Max Ethanol % - Gasoline</th>\n",
       "      <td>10.0</td>\n",
       "      <td>10.0</td>\n",
       "      <td>15.0</td>\n",
       "      <td>10.0</td>\n",
       "      <td>85.0</td>\n",
       "    </tr>\n",
       "    <tr>\n",
       "      <th>Intake Valves Per Cyl</th>\n",
       "      <td>2</td>\n",
       "      <td>2</td>\n",
       "      <td>2</td>\n",
       "      <td>2</td>\n",
       "      <td>2</td>\n",
       "    </tr>\n",
       "    <tr>\n",
       "      <th>Exhaust Valves Per Cyl</th>\n",
       "      <td>2</td>\n",
       "      <td>2</td>\n",
       "      <td>2</td>\n",
       "      <td>2</td>\n",
       "      <td>2</td>\n",
       "    </tr>\n",
       "    <tr>\n",
       "      <th>Trans Creeper Gear</th>\n",
       "      <td>N</td>\n",
       "      <td>N</td>\n",
       "      <td>N</td>\n",
       "      <td>N</td>\n",
       "      <td>N</td>\n",
       "    </tr>\n",
       "    <tr>\n",
       "      <th>Unique Label?</th>\n",
       "      <td>N</td>\n",
       "      <td>N</td>\n",
       "      <td>N</td>\n",
       "      <td>N</td>\n",
       "      <td>N</td>\n",
       "    </tr>\n",
       "    <tr>\n",
       "      <th>Air Aspiration Method Desc</th>\n",
       "      <td>Naturally Aspirated</td>\n",
       "      <td>none given</td>\n",
       "      <td>none given</td>\n",
       "      <td>none given</td>\n",
       "      <td>Naturally Aspirated</td>\n",
       "    </tr>\n",
       "    <tr>\n",
       "      <th>Fuel Metering Sys Desc</th>\n",
       "      <td>Multipoint/sequential fuel injection</td>\n",
       "      <td>Spark Ignition Direct Injection</td>\n",
       "      <td>Multipoint/sequential fuel injection</td>\n",
       "      <td>Spark Ignition Direct Injection</td>\n",
       "      <td>Multipoint/sequential fuel injection</td>\n",
       "    </tr>\n",
       "    <tr>\n",
       "      <th>Cyl Deact?</th>\n",
       "      <td>N</td>\n",
       "      <td>N</td>\n",
       "      <td></td>\n",
       "      <td></td>\n",
       "      <td>N</td>\n",
       "    </tr>\n",
       "  </tbody>\n",
       "</table>\n",
       "</div>"
      ],
      "text/plain": [
       "                                                                      0  \\\n",
       "Eng Displ                                                           NaN   \n",
       "# Cyl                                                                 4   \n",
       "Comb Unadj FE - Conventional Fuel                               32.8729   \n",
       "# Gears                                                               6   \n",
       "Max Ethanol % - Gasoline                                           10.0   \n",
       "Intake Valves Per Cyl                                                 2   \n",
       "Exhaust Valves Per Cyl                                                2   \n",
       "Trans Creeper Gear                                                    N   \n",
       "Unique Label?                                                         N   \n",
       "Air Aspiration Method Desc                          Naturally Aspirated   \n",
       "Fuel Metering Sys Desc             Multipoint/sequential fuel injection   \n",
       "Cyl Deact?                                                            N   \n",
       "\n",
       "                                                                 1  \\\n",
       "Eng Displ                                                      NaN   \n",
       "# Cyl                                                            4   \n",
       "Comb Unadj FE - Conventional Fuel                          41.5766   \n",
       "# Gears                                                          6   \n",
       "Max Ethanol % - Gasoline                                      10.0   \n",
       "Intake Valves Per Cyl                                            2   \n",
       "Exhaust Valves Per Cyl                                           2   \n",
       "Trans Creeper Gear                                               N   \n",
       "Unique Label?                                                    N   \n",
       "Air Aspiration Method Desc                              none given   \n",
       "Fuel Metering Sys Desc             Spark Ignition Direct Injection   \n",
       "Cyl Deact?                                                       N   \n",
       "\n",
       "                                                                      2  \\\n",
       "Eng Displ                                                           1.8   \n",
       "# Cyl                                                                 4   \n",
       "Comb Unadj FE - Conventional Fuel                               42.3624   \n",
       "# Gears                                                               6   \n",
       "Max Ethanol % - Gasoline                                           15.0   \n",
       "Intake Valves Per Cyl                                                 2   \n",
       "Exhaust Valves Per Cyl                                                2   \n",
       "Trans Creeper Gear                                                    N   \n",
       "Unique Label?                                                         N   \n",
       "Air Aspiration Method Desc                                   none given   \n",
       "Fuel Metering Sys Desc             Multipoint/sequential fuel injection   \n",
       "Cyl Deact?                                                                \n",
       "\n",
       "                                                                 3  \\\n",
       "Eng Displ                                                      3.5   \n",
       "# Cyl                                                            6   \n",
       "Comb Unadj FE - Conventional Fuel                          29.3963   \n",
       "# Gears                                                          6   \n",
       "Max Ethanol % - Gasoline                                      10.0   \n",
       "Intake Valves Per Cyl                                            2   \n",
       "Exhaust Valves Per Cyl                                           2   \n",
       "Trans Creeper Gear                                               N   \n",
       "Unique Label?                                                    N   \n",
       "Air Aspiration Method Desc                              none given   \n",
       "Fuel Metering Sys Desc             Spark Ignition Direct Injection   \n",
       "Cyl Deact?                                                           \n",
       "\n",
       "                                                                      4  \n",
       "Eng Displ                                                           NaN  \n",
       "# Cyl                                                                 6  \n",
       "Comb Unadj FE - Conventional Fuel                               25.4694  \n",
       "# Gears                                                               6  \n",
       "Max Ethanol % - Gasoline                                           85.0  \n",
       "Intake Valves Per Cyl                                                 2  \n",
       "Exhaust Valves Per Cyl                                                2  \n",
       "Trans Creeper Gear                                                    N  \n",
       "Unique Label?                                                         N  \n",
       "Air Aspiration Method Desc                          Naturally Aspirated  \n",
       "Fuel Metering Sys Desc             Multipoint/sequential fuel injection  \n",
       "Cyl Deact?                                                            N  "
      ]
     },
     "execution_count": 22,
     "metadata": {},
     "output_type": "execute_result"
    }
   ],
   "source": [
    "df_veh_copy_part1.head().T"
   ]
  },
  {
   "cell_type": "markdown",
   "metadata": {},
   "source": [
    "#### Checking for Null Values in the dataset"
   ]
  },
  {
   "cell_type": "code",
   "execution_count": 23,
   "metadata": {},
   "outputs": [
    {
     "data": {
      "text/plain": [
       "Eng Displ                            367\n",
       "# Cyl                                  0\n",
       "Comb Unadj FE - Conventional Fuel      0\n",
       "# Gears                                0\n",
       "Max Ethanol % - Gasoline              23\n",
       "Intake Valves Per Cyl                  0\n",
       "Exhaust Valves Per Cyl                 0\n",
       "Trans Creeper Gear                     0\n",
       "Unique Label?                         77\n",
       "Air Aspiration Method Desc             0\n",
       "Fuel Metering Sys Desc                 0\n",
       "Cyl Deact?                           228\n",
       "dtype: int64"
      ]
     },
     "execution_count": 23,
     "metadata": {},
     "output_type": "execute_result"
    }
   ],
   "source": [
    "df_veh_copy_part1.isnull().sum()"
   ]
  },
  {
   "cell_type": "markdown",
   "metadata": {},
   "source": [
    "#### There are Null Values in this dataset\n",
    "\n",
    "#### Now lets see which column have how much percent of null values "
   ]
  },
  {
   "cell_type": "code",
   "execution_count": 24,
   "metadata": {},
   "outputs": [
    {
     "data": {
      "text/html": [
       "<div>\n",
       "<style scoped>\n",
       "    .dataframe tbody tr th:only-of-type {\n",
       "        vertical-align: middle;\n",
       "    }\n",
       "\n",
       "    .dataframe tbody tr th {\n",
       "        vertical-align: top;\n",
       "    }\n",
       "\n",
       "    .dataframe thead th {\n",
       "        text-align: right;\n",
       "    }\n",
       "</style>\n",
       "<table border=\"1\" class=\"dataframe\">\n",
       "  <thead>\n",
       "    <tr style=\"text-align: right;\">\n",
       "      <th></th>\n",
       "      <th>data type</th>\n",
       "      <th>percent missing</th>\n",
       "      <th>No. unique</th>\n",
       "      <th>unique values</th>\n",
       "    </tr>\n",
       "  </thead>\n",
       "  <tbody>\n",
       "    <tr>\n",
       "      <th># Cyl</th>\n",
       "      <td>int64</td>\n",
       "      <td>0.000000</td>\n",
       "      <td>7</td>\n",
       "      <td>[4, 6, 12, 8, 3, 10, 5]</td>\n",
       "    </tr>\n",
       "    <tr>\n",
       "      <th># Gears</th>\n",
       "      <td>int64</td>\n",
       "      <td>0.000000</td>\n",
       "      <td>7</td>\n",
       "      <td>[6, 8, 7, 9, 5, 1, 4]</td>\n",
       "    </tr>\n",
       "    <tr>\n",
       "      <th>Intake Valves Per Cyl</th>\n",
       "      <td>int64</td>\n",
       "      <td>0.000000</td>\n",
       "      <td>2</td>\n",
       "      <td>[2, 1]</td>\n",
       "    </tr>\n",
       "    <tr>\n",
       "      <th>Exhaust Valves Per Cyl</th>\n",
       "      <td>int64</td>\n",
       "      <td>0.000000</td>\n",
       "      <td>2</td>\n",
       "      <td>[2, 1]</td>\n",
       "    </tr>\n",
       "    <tr>\n",
       "      <th>Eng Displ</th>\n",
       "      <td>float64</td>\n",
       "      <td>30.330579</td>\n",
       "      <td>43</td>\n",
       "      <td>[nan, 1.8, 3.5, 3.4, 2.5, 2.0, 6.3, 6.2, 1.5, ...</td>\n",
       "    </tr>\n",
       "    <tr>\n",
       "      <th>Comb Unadj FE - Conventional Fuel</th>\n",
       "      <td>float64</td>\n",
       "      <td>0.000000</td>\n",
       "      <td>929</td>\n",
       "      <td>[32.8729, 41.5766, 42.3624, 29.3963, 25.4694, ...</td>\n",
       "    </tr>\n",
       "    <tr>\n",
       "      <th>Max Ethanol % - Gasoline</th>\n",
       "      <td>float64</td>\n",
       "      <td>1.900826</td>\n",
       "      <td>4</td>\n",
       "      <td>[10.0, 15.0, 85.0, nan]</td>\n",
       "    </tr>\n",
       "    <tr>\n",
       "      <th>Trans Creeper Gear</th>\n",
       "      <td>object</td>\n",
       "      <td>0.000000</td>\n",
       "      <td>2</td>\n",
       "      <td>[N, Y]</td>\n",
       "    </tr>\n",
       "    <tr>\n",
       "      <th>Unique Label?</th>\n",
       "      <td>object</td>\n",
       "      <td>6.363636</td>\n",
       "      <td>3</td>\n",
       "      <td>[N, Y, nan]</td>\n",
       "    </tr>\n",
       "    <tr>\n",
       "      <th>Air Aspiration Method Desc</th>\n",
       "      <td>object</td>\n",
       "      <td>0.000000</td>\n",
       "      <td>5</td>\n",
       "      <td>[Naturally Aspirated, none given, Turbocharged...</td>\n",
       "    </tr>\n",
       "    <tr>\n",
       "      <th>Fuel Metering Sys Desc</th>\n",
       "      <td>object</td>\n",
       "      <td>0.000000</td>\n",
       "      <td>6</td>\n",
       "      <td>[Multipoint/sequential fuel injection, Spark I...</td>\n",
       "    </tr>\n",
       "    <tr>\n",
       "      <th>Cyl Deact?</th>\n",
       "      <td>object</td>\n",
       "      <td>18.842975</td>\n",
       "      <td>4</td>\n",
       "      <td>[N,    , nan, Y]</td>\n",
       "    </tr>\n",
       "  </tbody>\n",
       "</table>\n",
       "</div>"
      ],
      "text/plain": [
       "                                  data type  percent missing  No. unique  \\\n",
       "# Cyl                                 int64         0.000000           7   \n",
       "# Gears                               int64         0.000000           7   \n",
       "Intake Valves Per Cyl                 int64         0.000000           2   \n",
       "Exhaust Valves Per Cyl                int64         0.000000           2   \n",
       "Eng Displ                           float64        30.330579          43   \n",
       "Comb Unadj FE - Conventional Fuel   float64         0.000000         929   \n",
       "Max Ethanol % - Gasoline            float64         1.900826           4   \n",
       "Trans Creeper Gear                   object         0.000000           2   \n",
       "Unique Label?                        object         6.363636           3   \n",
       "Air Aspiration Method Desc           object         0.000000           5   \n",
       "Fuel Metering Sys Desc               object         0.000000           6   \n",
       "Cyl Deact?                           object        18.842975           4   \n",
       "\n",
       "                                                                       unique values  \n",
       "# Cyl                                                        [4, 6, 12, 8, 3, 10, 5]  \n",
       "# Gears                                                        [6, 8, 7, 9, 5, 1, 4]  \n",
       "Intake Valves Per Cyl                                                         [2, 1]  \n",
       "Exhaust Valves Per Cyl                                                        [2, 1]  \n",
       "Eng Displ                          [nan, 1.8, 3.5, 3.4, 2.5, 2.0, 6.3, 6.2, 1.5, ...  \n",
       "Comb Unadj FE - Conventional Fuel  [32.8729, 41.5766, 42.3624, 29.3963, 25.4694, ...  \n",
       "Max Ethanol % - Gasoline                                     [10.0, 15.0, 85.0, nan]  \n",
       "Trans Creeper Gear                                                            [N, Y]  \n",
       "Unique Label?                                                            [N, Y, nan]  \n",
       "Air Aspiration Method Desc         [Naturally Aspirated, none given, Turbocharged...  \n",
       "Fuel Metering Sys Desc             [Multipoint/sequential fuel injection, Spark I...  \n",
       "Cyl Deact?                                                          [N,    , nan, Y]  "
      ]
     },
     "execution_count": 24,
     "metadata": {},
     "output_type": "execute_result"
    }
   ],
   "source": [
    "sniff_modified(df_veh_copy_part1)"
   ]
  },
  {
   "cell_type": "markdown",
   "metadata": {},
   "source": [
    "#### As we see some of the  numerical columns have missing value like Eng Displ\t, Max Ethanol % - Gasoline etc. and for meanwhile  we will replace missing value with zero by using .fillna() function"
   ]
  },
  {
   "cell_type": "code",
   "execution_count": 25,
   "metadata": {},
   "outputs": [],
   "source": [
    "df_veh_copy_part1.fillna(0,inplace=True)"
   ]
  },
  {
   "cell_type": "code",
   "execution_count": 26,
   "metadata": {},
   "outputs": [
    {
     "data": {
      "text/plain": [
       "Eng Displ                            0\n",
       "# Cyl                                0\n",
       "Comb Unadj FE - Conventional Fuel    0\n",
       "# Gears                              0\n",
       "Max Ethanol % - Gasoline             0\n",
       "Intake Valves Per Cyl                0\n",
       "Exhaust Valves Per Cyl               0\n",
       "Trans Creeper Gear                   0\n",
       "Unique Label?                        0\n",
       "Air Aspiration Method Desc           0\n",
       "Fuel Metering Sys Desc               0\n",
       "Cyl Deact?                           0\n",
       "dtype: int64"
      ]
     },
     "execution_count": 26,
     "metadata": {},
     "output_type": "execute_result"
    }
   ],
   "source": [
    "df_veh_copy_part1.isnull().sum()"
   ]
  },
  {
   "cell_type": "code",
   "execution_count": 27,
   "metadata": {},
   "outputs": [
    {
     "data": {
      "text/html": [
       "<div>\n",
       "<style scoped>\n",
       "    .dataframe tbody tr th:only-of-type {\n",
       "        vertical-align: middle;\n",
       "    }\n",
       "\n",
       "    .dataframe tbody tr th {\n",
       "        vertical-align: top;\n",
       "    }\n",
       "\n",
       "    .dataframe thead th {\n",
       "        text-align: right;\n",
       "    }\n",
       "</style>\n",
       "<table border=\"1\" class=\"dataframe\">\n",
       "  <thead>\n",
       "    <tr style=\"text-align: right;\">\n",
       "      <th></th>\n",
       "      <th>data type</th>\n",
       "      <th>percent missing</th>\n",
       "      <th>No. unique</th>\n",
       "      <th>unique values</th>\n",
       "    </tr>\n",
       "  </thead>\n",
       "  <tbody>\n",
       "    <tr>\n",
       "      <th># Cyl</th>\n",
       "      <td>int64</td>\n",
       "      <td>0.0</td>\n",
       "      <td>7</td>\n",
       "      <td>[4, 6, 12, 8, 3, 10, 5]</td>\n",
       "    </tr>\n",
       "    <tr>\n",
       "      <th># Gears</th>\n",
       "      <td>int64</td>\n",
       "      <td>0.0</td>\n",
       "      <td>7</td>\n",
       "      <td>[6, 8, 7, 9, 5, 1, 4]</td>\n",
       "    </tr>\n",
       "    <tr>\n",
       "      <th>Intake Valves Per Cyl</th>\n",
       "      <td>int64</td>\n",
       "      <td>0.0</td>\n",
       "      <td>2</td>\n",
       "      <td>[2, 1]</td>\n",
       "    </tr>\n",
       "    <tr>\n",
       "      <th>Exhaust Valves Per Cyl</th>\n",
       "      <td>int64</td>\n",
       "      <td>0.0</td>\n",
       "      <td>2</td>\n",
       "      <td>[2, 1]</td>\n",
       "    </tr>\n",
       "    <tr>\n",
       "      <th>Eng Displ</th>\n",
       "      <td>float64</td>\n",
       "      <td>0.0</td>\n",
       "      <td>43</td>\n",
       "      <td>[0.0, 1.8, 3.5, 3.4, 2.5, 2.0, 6.3, 6.2, 1.5, ...</td>\n",
       "    </tr>\n",
       "    <tr>\n",
       "      <th>Comb Unadj FE - Conventional Fuel</th>\n",
       "      <td>float64</td>\n",
       "      <td>0.0</td>\n",
       "      <td>929</td>\n",
       "      <td>[32.8729, 41.5766, 42.3624, 29.3963, 25.4694, ...</td>\n",
       "    </tr>\n",
       "    <tr>\n",
       "      <th>Max Ethanol % - Gasoline</th>\n",
       "      <td>float64</td>\n",
       "      <td>0.0</td>\n",
       "      <td>4</td>\n",
       "      <td>[10.0, 15.0, 85.0, 0.0]</td>\n",
       "    </tr>\n",
       "    <tr>\n",
       "      <th>Trans Creeper Gear</th>\n",
       "      <td>object</td>\n",
       "      <td>0.0</td>\n",
       "      <td>2</td>\n",
       "      <td>[N, Y]</td>\n",
       "    </tr>\n",
       "    <tr>\n",
       "      <th>Unique Label?</th>\n",
       "      <td>object</td>\n",
       "      <td>0.0</td>\n",
       "      <td>3</td>\n",
       "      <td>[N, Y, 0]</td>\n",
       "    </tr>\n",
       "    <tr>\n",
       "      <th>Air Aspiration Method Desc</th>\n",
       "      <td>object</td>\n",
       "      <td>0.0</td>\n",
       "      <td>5</td>\n",
       "      <td>[Naturally Aspirated, none given, Turbocharged...</td>\n",
       "    </tr>\n",
       "    <tr>\n",
       "      <th>Fuel Metering Sys Desc</th>\n",
       "      <td>object</td>\n",
       "      <td>0.0</td>\n",
       "      <td>6</td>\n",
       "      <td>[Multipoint/sequential fuel injection, Spark I...</td>\n",
       "    </tr>\n",
       "    <tr>\n",
       "      <th>Cyl Deact?</th>\n",
       "      <td>object</td>\n",
       "      <td>0.0</td>\n",
       "      <td>4</td>\n",
       "      <td>[N,    , 0, Y]</td>\n",
       "    </tr>\n",
       "  </tbody>\n",
       "</table>\n",
       "</div>"
      ],
      "text/plain": [
       "                                  data type  percent missing  No. unique  \\\n",
       "# Cyl                                 int64              0.0           7   \n",
       "# Gears                               int64              0.0           7   \n",
       "Intake Valves Per Cyl                 int64              0.0           2   \n",
       "Exhaust Valves Per Cyl                int64              0.0           2   \n",
       "Eng Displ                           float64              0.0          43   \n",
       "Comb Unadj FE - Conventional Fuel   float64              0.0         929   \n",
       "Max Ethanol % - Gasoline            float64              0.0           4   \n",
       "Trans Creeper Gear                   object              0.0           2   \n",
       "Unique Label?                        object              0.0           3   \n",
       "Air Aspiration Method Desc           object              0.0           5   \n",
       "Fuel Metering Sys Desc               object              0.0           6   \n",
       "Cyl Deact?                           object              0.0           4   \n",
       "\n",
       "                                                                       unique values  \n",
       "# Cyl                                                        [4, 6, 12, 8, 3, 10, 5]  \n",
       "# Gears                                                        [6, 8, 7, 9, 5, 1, 4]  \n",
       "Intake Valves Per Cyl                                                         [2, 1]  \n",
       "Exhaust Valves Per Cyl                                                        [2, 1]  \n",
       "Eng Displ                          [0.0, 1.8, 3.5, 3.4, 2.5, 2.0, 6.3, 6.2, 1.5, ...  \n",
       "Comb Unadj FE - Conventional Fuel  [32.8729, 41.5766, 42.3624, 29.3963, 25.4694, ...  \n",
       "Max Ethanol % - Gasoline                                     [10.0, 15.0, 85.0, 0.0]  \n",
       "Trans Creeper Gear                                                            [N, Y]  \n",
       "Unique Label?                                                              [N, Y, 0]  \n",
       "Air Aspiration Method Desc         [Naturally Aspirated, none given, Turbocharged...  \n",
       "Fuel Metering Sys Desc             [Multipoint/sequential fuel injection, Spark I...  \n",
       "Cyl Deact?                                                            [N,    , 0, Y]  "
      ]
     },
     "execution_count": 27,
     "metadata": {},
     "output_type": "execute_result"
    }
   ],
   "source": [
    "sniff_modified(df_veh_copy_part1)"
   ]
  },
  {
   "cell_type": "markdown",
   "metadata": {},
   "source": [
    "#### Now it has no missing value and we can make baseline model."
   ]
  },
  {
   "cell_type": "code",
   "execution_count": 28,
   "metadata": {},
   "outputs": [],
   "source": [
    " num_features = ['Eng Displ','# Cyl','# Gears','Max Ethanol % - Gasoline','Intake Valves Per Cyl','Exhaust Valves Per Cyl']"
   ]
  },
  {
   "cell_type": "code",
   "execution_count": 29,
   "metadata": {},
   "outputs": [],
   "source": [
    "# Baseline evaluation \n",
    "X = df_veh_copy_part1[num_features]\n",
    "y = df_veh_copy_part1['Comb Unadj FE - Conventional Fuel']\n"
   ]
  },
  {
   "cell_type": "code",
   "execution_count": 30,
   "metadata": {},
   "outputs": [
    {
     "name": "stdout",
     "output_type": "stream",
     "text": [
      "OOB R^2 is 0.77810 using 54082 tree nodes with 15.0 median tree depth\n",
      "OOB R^2 is 0.77806 using 53936 tree nodes with 15.0 median tree depth\n",
      "OOB R^2 is 0.77870 using 53998 tree nodes with 15.0 median tree depth\n",
      "OOB R^2 is 0.77750 using 53898 tree nodes with 15.0 median tree depth\n",
      "OOB R^2 is 0.77830 using 53910 tree nodes with 15.0 median tree depth\n",
      "OOB R^2 is 0.77789 using 54006 tree nodes with 15.0 median tree depth\n",
      "OOB R^2 is 0.77826 using 54004 tree nodes with 15.0 median tree depth\n",
      "OOB R^2 is 0.77846 using 53944 tree nodes with 15.0 median tree depth\n",
      "OOB R^2 is 0.77773 using 54070 tree nodes with 15.0 median tree depth\n",
      "OOB R^2 is 0.77710 using 54140 tree nodes with 15.0 median tree depth\n",
      "--------------------------------------------------------------------------------------\n",
      "Average of OOB R^2 is 0.77801 using average 53999 tree nodes with average 15.0 median tree depth\n"
     ]
    }
   ],
   "source": [
    "rf_baseline,oob_score_baseline = evaluate(X,y)"
   ]
  },
  {
   "cell_type": "code",
   "execution_count": 31,
   "metadata": {},
   "outputs": [
    {
     "data": {
      "image/png": "[encoded data removed]",
      "text/plain": [
       "<Figure size 400x150 with 1 Axes>"
      ]
     },
     "metadata": {},
     "output_type": "display_data"
    }
   ],
   "source": [
    "showimp(rf_baseline,X,y)"
   ]
  },
  {
   "cell_type": "markdown",
   "metadata": {},
   "source": [
    "### Part 2 - Normalize missing values\n",
    "\n",
    "In this part you should: \n",
    " - use Section 7.4 of the textbook as a guide\n",
    " - convert **all** representations of missing data to a **single** representation\n",
    " \n",
    "#### Code (15 marks)"
   ]
  },
  {
   "cell_type": "code",
   "execution_count": 32,
   "metadata": {},
   "outputs": [],
   "source": [
    "df_veh_copy_part2 = df_veh.copy()"
   ]
  },
  {
   "cell_type": "code",
   "execution_count": 33,
   "metadata": {},
   "outputs": [
    {
     "data": {
      "text/html": [
       "<div>\n",
       "<style scoped>\n",
       "    .dataframe tbody tr th:only-of-type {\n",
       "        vertical-align: middle;\n",
       "    }\n",
       "\n",
       "    .dataframe tbody tr th {\n",
       "        vertical-align: top;\n",
       "    }\n",
       "\n",
       "    .dataframe thead th {\n",
       "        text-align: right;\n",
       "    }\n",
       "</style>\n",
       "<table border=\"1\" class=\"dataframe\">\n",
       "  <thead>\n",
       "    <tr style=\"text-align: right;\">\n",
       "      <th></th>\n",
       "      <th>0</th>\n",
       "      <th>1</th>\n",
       "      <th>2</th>\n",
       "      <th>3</th>\n",
       "      <th>4</th>\n",
       "    </tr>\n",
       "  </thead>\n",
       "  <tbody>\n",
       "    <tr>\n",
       "      <th>Eng Displ</th>\n",
       "      <td>NaN</td>\n",
       "      <td>NaN</td>\n",
       "      <td>1.8</td>\n",
       "      <td>3.5</td>\n",
       "      <td>NaN</td>\n",
       "    </tr>\n",
       "    <tr>\n",
       "      <th># Cyl</th>\n",
       "      <td>4</td>\n",
       "      <td>4</td>\n",
       "      <td>4</td>\n",
       "      <td>6</td>\n",
       "      <td>6</td>\n",
       "    </tr>\n",
       "    <tr>\n",
       "      <th>Comb Unadj FE - Conventional Fuel</th>\n",
       "      <td>32.8729</td>\n",
       "      <td>41.5766</td>\n",
       "      <td>42.3624</td>\n",
       "      <td>29.3963</td>\n",
       "      <td>25.4694</td>\n",
       "    </tr>\n",
       "    <tr>\n",
       "      <th># Gears</th>\n",
       "      <td>6</td>\n",
       "      <td>6</td>\n",
       "      <td>6</td>\n",
       "      <td>6</td>\n",
       "      <td>6</td>\n",
       "    </tr>\n",
       "    <tr>\n",
       "      <th>Max Ethanol % - Gasoline</th>\n",
       "      <td>10.0</td>\n",
       "      <td>10.0</td>\n",
       "      <td>15.0</td>\n",
       "      <td>10.0</td>\n",
       "      <td>85.0</td>\n",
       "    </tr>\n",
       "    <tr>\n",
       "      <th>Intake Valves Per Cyl</th>\n",
       "      <td>2</td>\n",
       "      <td>2</td>\n",
       "      <td>2</td>\n",
       "      <td>2</td>\n",
       "      <td>2</td>\n",
       "    </tr>\n",
       "    <tr>\n",
       "      <th>Exhaust Valves Per Cyl</th>\n",
       "      <td>2</td>\n",
       "      <td>2</td>\n",
       "      <td>2</td>\n",
       "      <td>2</td>\n",
       "      <td>2</td>\n",
       "    </tr>\n",
       "    <tr>\n",
       "      <th>Trans Creeper Gear</th>\n",
       "      <td>N</td>\n",
       "      <td>N</td>\n",
       "      <td>N</td>\n",
       "      <td>N</td>\n",
       "      <td>N</td>\n",
       "    </tr>\n",
       "    <tr>\n",
       "      <th>Unique Label?</th>\n",
       "      <td>N</td>\n",
       "      <td>N</td>\n",
       "      <td>N</td>\n",
       "      <td>N</td>\n",
       "      <td>N</td>\n",
       "    </tr>\n",
       "    <tr>\n",
       "      <th>Air Aspiration Method Desc</th>\n",
       "      <td>Naturally Aspirated</td>\n",
       "      <td>none given</td>\n",
       "      <td>none given</td>\n",
       "      <td>none given</td>\n",
       "      <td>Naturally Aspirated</td>\n",
       "    </tr>\n",
       "    <tr>\n",
       "      <th>Fuel Metering Sys Desc</th>\n",
       "      <td>Multipoint/sequential fuel injection</td>\n",
       "      <td>Spark Ignition Direct Injection</td>\n",
       "      <td>Multipoint/sequential fuel injection</td>\n",
       "      <td>Spark Ignition Direct Injection</td>\n",
       "      <td>Multipoint/sequential fuel injection</td>\n",
       "    </tr>\n",
       "    <tr>\n",
       "      <th>Cyl Deact?</th>\n",
       "      <td>N</td>\n",
       "      <td>N</td>\n",
       "      <td></td>\n",
       "      <td></td>\n",
       "      <td>N</td>\n",
       "    </tr>\n",
       "  </tbody>\n",
       "</table>\n",
       "</div>"
      ],
      "text/plain": [
       "                                                                      0  \\\n",
       "Eng Displ                                                           NaN   \n",
       "# Cyl                                                                 4   \n",
       "Comb Unadj FE - Conventional Fuel                               32.8729   \n",
       "# Gears                                                               6   \n",
       "Max Ethanol % - Gasoline                                           10.0   \n",
       "Intake Valves Per Cyl                                                 2   \n",
       "Exhaust Valves Per Cyl                                                2   \n",
       "Trans Creeper Gear                                                    N   \n",
       "Unique Label?                                                         N   \n",
       "Air Aspiration Method Desc                          Naturally Aspirated   \n",
       "Fuel Metering Sys Desc             Multipoint/sequential fuel injection   \n",
       "Cyl Deact?                                                            N   \n",
       "\n",
       "                                                                 1  \\\n",
       "Eng Displ                                                      NaN   \n",
       "# Cyl                                                            4   \n",
       "Comb Unadj FE - Conventional Fuel                          41.5766   \n",
       "# Gears                                                          6   \n",
       "Max Ethanol % - Gasoline                                      10.0   \n",
       "Intake Valves Per Cyl                                            2   \n",
       "Exhaust Valves Per Cyl                                           2   \n",
       "Trans Creeper Gear                                               N   \n",
       "Unique Label?                                                    N   \n",
       "Air Aspiration Method Desc                              none given   \n",
       "Fuel Metering Sys Desc             Spark Ignition Direct Injection   \n",
       "Cyl Deact?                                                       N   \n",
       "\n",
       "                                                                      2  \\\n",
       "Eng Displ                                                           1.8   \n",
       "# Cyl                                                                 4   \n",
       "Comb Unadj FE - Conventional Fuel                               42.3624   \n",
       "# Gears                                                               6   \n",
       "Max Ethanol % - Gasoline                                           15.0   \n",
       "Intake Valves Per Cyl                                                 2   \n",
       "Exhaust Valves Per Cyl                                                2   \n",
       "Trans Creeper Gear                                                    N   \n",
       "Unique Label?                                                         N   \n",
       "Air Aspiration Method Desc                                   none given   \n",
       "Fuel Metering Sys Desc             Multipoint/sequential fuel injection   \n",
       "Cyl Deact?                                                                \n",
       "\n",
       "                                                                 3  \\\n",
       "Eng Displ                                                      3.5   \n",
       "# Cyl                                                            6   \n",
       "Comb Unadj FE - Conventional Fuel                          29.3963   \n",
       "# Gears                                                          6   \n",
       "Max Ethanol % - Gasoline                                      10.0   \n",
       "Intake Valves Per Cyl                                            2   \n",
       "Exhaust Valves Per Cyl                                           2   \n",
       "Trans Creeper Gear                                               N   \n",
       "Unique Label?                                                    N   \n",
       "Air Aspiration Method Desc                              none given   \n",
       "Fuel Metering Sys Desc             Spark Ignition Direct Injection   \n",
       "Cyl Deact?                                                           \n",
       "\n",
       "                                                                      4  \n",
       "Eng Displ                                                           NaN  \n",
       "# Cyl                                                                 6  \n",
       "Comb Unadj FE - Conventional Fuel                               25.4694  \n",
       "# Gears                                                               6  \n",
       "Max Ethanol % - Gasoline                                           85.0  \n",
       "Intake Valves Per Cyl                                                 2  \n",
       "Exhaust Valves Per Cyl                                                2  \n",
       "Trans Creeper Gear                                                    N  \n",
       "Unique Label?                                                         N  \n",
       "Air Aspiration Method Desc                          Naturally Aspirated  \n",
       "Fuel Metering Sys Desc             Multipoint/sequential fuel injection  \n",
       "Cyl Deact?                                                            N  "
      ]
     },
     "execution_count": 33,
     "metadata": {},
     "output_type": "execute_result"
    }
   ],
   "source": [
    "df_veh_copy_part2.head().T"
   ]
  },
  {
   "cell_type": "code",
   "execution_count": 34,
   "metadata": {},
   "outputs": [
    {
     "data": {
      "text/plain": [
       "Eng Displ                            367\n",
       "# Cyl                                  0\n",
       "Comb Unadj FE - Conventional Fuel      0\n",
       "# Gears                                0\n",
       "Max Ethanol % - Gasoline              23\n",
       "Intake Valves Per Cyl                  0\n",
       "Exhaust Valves Per Cyl                 0\n",
       "Trans Creeper Gear                     0\n",
       "Unique Label?                         77\n",
       "Air Aspiration Method Desc             0\n",
       "Fuel Metering Sys Desc                 0\n",
       "Cyl Deact?                           228\n",
       "dtype: int64"
      ]
     },
     "execution_count": 34,
     "metadata": {},
     "output_type": "execute_result"
    }
   ],
   "source": [
    "df_veh_copy_part2.isnull().sum()"
   ]
  },
  {
   "cell_type": "code",
   "execution_count": 35,
   "metadata": {},
   "outputs": [
    {
     "data": {
      "text/plain": [
       "array([nan, 1.8, 3.5, 3.4, 2.5, 2. , 6.3, 6.2, 1.5, 3. , 1.4, 3.6, 6.7,\n",
       "       4. , 1.6, 2.4, 6.5, 2.7, 5. , 3.7, 6. , 3.8, 5.7, 5.5, 5.9, 1. ,\n",
       "       6.4, 4.7, 5.3, 2.8, 0.9, 3.3, 4.6, 4.4, 5.2, 4.3, 4.8, 3.9, 6.6,\n",
       "       2.3, 8.4, 5.6, 6.8])"
      ]
     },
     "execution_count": 35,
     "metadata": {},
     "output_type": "execute_result"
    }
   ],
   "source": [
    "df_veh_copy_part2['Eng Displ'].unique() # we have nan here "
   ]
  },
  {
   "cell_type": "code",
   "execution_count": 36,
   "metadata": {},
   "outputs": [
    {
     "data": {
      "text/plain": [
       "array([10., 15., 85., nan])"
      ]
     },
     "execution_count": 36,
     "metadata": {},
     "output_type": "execute_result"
    }
   ],
   "source": [
    "df_veh_copy_part2['Max Ethanol % - Gasoline'].unique() #we have \"nan\" here "
   ]
  },
  {
   "cell_type": "code",
   "execution_count": 37,
   "metadata": {},
   "outputs": [
    {
     "data": {
      "text/plain": [
       "array(['N', 'Y', nan], dtype=object)"
      ]
     },
     "execution_count": 37,
     "metadata": {},
     "output_type": "execute_result"
    }
   ],
   "source": [
    "df_veh_copy_part2['Unique Label?'].unique() # we have \"nan\" here"
   ]
  },
  {
   "cell_type": "code",
   "execution_count": 38,
   "metadata": {},
   "outputs": [
    {
     "data": {
      "text/plain": [
       "array(['Naturally Aspirated', 'none given', 'Turbocharged',\n",
       "       'Supercharged', 'Turbocharged+Supercharged'], dtype=object)"
      ]
     },
     "execution_count": 38,
     "metadata": {},
     "output_type": "execute_result"
    }
   ],
   "source": [
    "df_veh_copy_part2['Air Aspiration Method Desc'].unique() # we have \"none given\" here "
   ]
  },
  {
   "cell_type": "code",
   "execution_count": 39,
   "metadata": {},
   "outputs": [
    {
     "data": {
      "text/plain": [
       "array(['Multipoint/sequential fuel injection',\n",
       "       'Spark Ignition Direct Injection', '@@@@@',\n",
       "       'Spark Ignition direct & ported injection',\n",
       "       'Common Rail Direct Diesel Injection',\n",
       "       'Direct Diesel Injection (non-common rail)'], dtype=object)"
      ]
     },
     "execution_count": 39,
     "metadata": {},
     "output_type": "execute_result"
    }
   ],
   "source": [
    "df_veh_copy_part2['Fuel Metering Sys Desc'].unique() # we have \"@@@@@\" here"
   ]
  },
  {
   "cell_type": "code",
   "execution_count": 40,
   "metadata": {},
   "outputs": [
    {
     "data": {
      "text/plain": [
       "array(['N', '   ', nan, 'Y'], dtype=object)"
      ]
     },
     "execution_count": 40,
     "metadata": {},
     "output_type": "execute_result"
    }
   ],
   "source": [
    "df_veh_copy_part2['Cyl Deact?'].unique() # we have space \"   \" and \"nan\" here "
   ]
  },
  {
   "cell_type": "code",
   "execution_count": 41,
   "metadata": {},
   "outputs": [
    {
     "data": {
      "text/plain": [
       "array(['N', 'Y'], dtype=object)"
      ]
     },
     "execution_count": 41,
     "metadata": {},
     "output_type": "execute_result"
    }
   ],
   "source": [
    "df_veh_copy_part2['Trans Creeper Gear'].unique()"
   ]
  },
  {
   "cell_type": "code",
   "execution_count": 42,
   "metadata": {},
   "outputs": [],
   "source": [
    "from pandas.api.types import is_string_dtype, is_object_dtype\n",
    "\n",
    "def df_normalize_strings(df):\n",
    "    for col in df.columns:\n",
    "        if is_string_dtype(df[col]) or is_object_dtype(df[col]):\n",
    "            df[col] = df[col].str.lower() # lower case\n",
    "            df[col] = df[col].fillna(np.nan) # replacing na with np.nan\n",
    "            df[col] = df[col].replace('none given', np.nan)\n",
    "            df[col] = df[col].replace('@@@@@', np.nan)\n",
    "            df[col] = df[col].replace('   ', np.nan)"
   ]
  },
  {
   "cell_type": "code",
   "execution_count": 43,
   "metadata": {},
   "outputs": [],
   "source": [
    "df_normalize_strings(df_veh_copy_part2)"
   ]
  },
  {
   "cell_type": "markdown",
   "metadata": {},
   "source": [
    "### We converted all representation of missing value into single representation "
   ]
  },
  {
   "cell_type": "markdown",
   "metadata": {},
   "source": [
    "#### Question (5 marks)\n",
    "\n",
    "Note here all the different ways missing data was represented in the data.   "
   ]
  },
  {
   "cell_type": "markdown",
   "metadata": {},
   "source": [
    "**Enter your answer here:**\n",
    "\n",
    "1. There is \"nan\" in \"Eng Displ\", \"Max Ethanol % - Gasoline\", \"Unique Label?\" and \"Cyl Deact?\" columns\n",
    "2. We noticed \"none given\" for \"Air Aspiration Method Desc\" coloumn\n",
    "3. We also noticed \"@@@@@\" for \"Fuel Metering Sys Desc\" column\n",
    "4. There are 3 spaces \"   \" in \"Fuel Metering Sys Desc\" column"
   ]
  },
  {
   "cell_type": "markdown",
   "metadata": {},
   "source": [
    "### Part 3 - Categorical features\n",
    "\n",
    "In this part you should: \n",
    " - use Section 7.5.1 as a guide\n",
    " - only use ordinal encoding \n",
    " - convert **all** non-numeric features to numeric \n",
    " - handle any missing values\n",
    " \n",
    "#### Code (25 marks)"
   ]
  },
  {
   "cell_type": "code",
   "execution_count": 44,
   "metadata": {},
   "outputs": [],
   "source": [
    "df_veh_copy_part3 = df_veh_copy_part2.copy()"
   ]
  },
  {
   "cell_type": "code",
   "execution_count": 45,
   "metadata": {},
   "outputs": [
    {
     "data": {
      "text/html": [
       "<div>\n",
       "<style scoped>\n",
       "    .dataframe tbody tr th:only-of-type {\n",
       "        vertical-align: middle;\n",
       "    }\n",
       "\n",
       "    .dataframe tbody tr th {\n",
       "        vertical-align: top;\n",
       "    }\n",
       "\n",
       "    .dataframe thead th {\n",
       "        text-align: right;\n",
       "    }\n",
       "</style>\n",
       "<table border=\"1\" class=\"dataframe\">\n",
       "  <thead>\n",
       "    <tr style=\"text-align: right;\">\n",
       "      <th></th>\n",
       "      <th>0</th>\n",
       "      <th>1</th>\n",
       "      <th>2</th>\n",
       "      <th>3</th>\n",
       "      <th>4</th>\n",
       "    </tr>\n",
       "  </thead>\n",
       "  <tbody>\n",
       "    <tr>\n",
       "      <th>Eng Displ</th>\n",
       "      <td>NaN</td>\n",
       "      <td>NaN</td>\n",
       "      <td>1.8</td>\n",
       "      <td>3.5</td>\n",
       "      <td>NaN</td>\n",
       "    </tr>\n",
       "    <tr>\n",
       "      <th># Cyl</th>\n",
       "      <td>4</td>\n",
       "      <td>4</td>\n",
       "      <td>4</td>\n",
       "      <td>6</td>\n",
       "      <td>6</td>\n",
       "    </tr>\n",
       "    <tr>\n",
       "      <th>Comb Unadj FE - Conventional Fuel</th>\n",
       "      <td>32.8729</td>\n",
       "      <td>41.5766</td>\n",
       "      <td>42.3624</td>\n",
       "      <td>29.3963</td>\n",
       "      <td>25.4694</td>\n",
       "    </tr>\n",
       "    <tr>\n",
       "      <th># Gears</th>\n",
       "      <td>6</td>\n",
       "      <td>6</td>\n",
       "      <td>6</td>\n",
       "      <td>6</td>\n",
       "      <td>6</td>\n",
       "    </tr>\n",
       "    <tr>\n",
       "      <th>Max Ethanol % - Gasoline</th>\n",
       "      <td>10.0</td>\n",
       "      <td>10.0</td>\n",
       "      <td>15.0</td>\n",
       "      <td>10.0</td>\n",
       "      <td>85.0</td>\n",
       "    </tr>\n",
       "    <tr>\n",
       "      <th>Intake Valves Per Cyl</th>\n",
       "      <td>2</td>\n",
       "      <td>2</td>\n",
       "      <td>2</td>\n",
       "      <td>2</td>\n",
       "      <td>2</td>\n",
       "    </tr>\n",
       "    <tr>\n",
       "      <th>Exhaust Valves Per Cyl</th>\n",
       "      <td>2</td>\n",
       "      <td>2</td>\n",
       "      <td>2</td>\n",
       "      <td>2</td>\n",
       "      <td>2</td>\n",
       "    </tr>\n",
       "    <tr>\n",
       "      <th>Trans Creeper Gear</th>\n",
       "      <td>n</td>\n",
       "      <td>n</td>\n",
       "      <td>n</td>\n",
       "      <td>n</td>\n",
       "      <td>n</td>\n",
       "    </tr>\n",
       "    <tr>\n",
       "      <th>Unique Label?</th>\n",
       "      <td>n</td>\n",
       "      <td>n</td>\n",
       "      <td>n</td>\n",
       "      <td>n</td>\n",
       "      <td>n</td>\n",
       "    </tr>\n",
       "    <tr>\n",
       "      <th>Air Aspiration Method Desc</th>\n",
       "      <td>naturally aspirated</td>\n",
       "      <td>NaN</td>\n",
       "      <td>NaN</td>\n",
       "      <td>NaN</td>\n",
       "      <td>naturally aspirated</td>\n",
       "    </tr>\n",
       "    <tr>\n",
       "      <th>Fuel Metering Sys Desc</th>\n",
       "      <td>multipoint/sequential fuel injection</td>\n",
       "      <td>spark ignition direct injection</td>\n",
       "      <td>multipoint/sequential fuel injection</td>\n",
       "      <td>spark ignition direct injection</td>\n",
       "      <td>multipoint/sequential fuel injection</td>\n",
       "    </tr>\n",
       "    <tr>\n",
       "      <th>Cyl Deact?</th>\n",
       "      <td>n</td>\n",
       "      <td>n</td>\n",
       "      <td>NaN</td>\n",
       "      <td>NaN</td>\n",
       "      <td>n</td>\n",
       "    </tr>\n",
       "  </tbody>\n",
       "</table>\n",
       "</div>"
      ],
      "text/plain": [
       "                                                                      0  \\\n",
       "Eng Displ                                                           NaN   \n",
       "# Cyl                                                                 4   \n",
       "Comb Unadj FE - Conventional Fuel                               32.8729   \n",
       "# Gears                                                               6   \n",
       "Max Ethanol % - Gasoline                                           10.0   \n",
       "Intake Valves Per Cyl                                                 2   \n",
       "Exhaust Valves Per Cyl                                                2   \n",
       "Trans Creeper Gear                                                    n   \n",
       "Unique Label?                                                         n   \n",
       "Air Aspiration Method Desc                          naturally aspirated   \n",
       "Fuel Metering Sys Desc             multipoint/sequential fuel injection   \n",
       "Cyl Deact?                                                            n   \n",
       "\n",
       "                                                                 1  \\\n",
       "Eng Displ                                                      NaN   \n",
       "# Cyl                                                            4   \n",
       "Comb Unadj FE - Conventional Fuel                          41.5766   \n",
       "# Gears                                                          6   \n",
       "Max Ethanol % - Gasoline                                      10.0   \n",
       "Intake Valves Per Cyl                                            2   \n",
       "Exhaust Valves Per Cyl                                           2   \n",
       "Trans Creeper Gear                                               n   \n",
       "Unique Label?                                                    n   \n",
       "Air Aspiration Method Desc                                     NaN   \n",
       "Fuel Metering Sys Desc             spark ignition direct injection   \n",
       "Cyl Deact?                                                       n   \n",
       "\n",
       "                                                                      2  \\\n",
       "Eng Displ                                                           1.8   \n",
       "# Cyl                                                                 4   \n",
       "Comb Unadj FE - Conventional Fuel                               42.3624   \n",
       "# Gears                                                               6   \n",
       "Max Ethanol % - Gasoline                                           15.0   \n",
       "Intake Valves Per Cyl                                                 2   \n",
       "Exhaust Valves Per Cyl                                                2   \n",
       "Trans Creeper Gear                                                    n   \n",
       "Unique Label?                                                         n   \n",
       "Air Aspiration Method Desc                                          NaN   \n",
       "Fuel Metering Sys Desc             multipoint/sequential fuel injection   \n",
       "Cyl Deact?                                                          NaN   \n",
       "\n",
       "                                                                 3  \\\n",
       "Eng Displ                                                      3.5   \n",
       "# Cyl                                                            6   \n",
       "Comb Unadj FE - Conventional Fuel                          29.3963   \n",
       "# Gears                                                          6   \n",
       "Max Ethanol % - Gasoline                                      10.0   \n",
       "Intake Valves Per Cyl                                            2   \n",
       "Exhaust Valves Per Cyl                                           2   \n",
       "Trans Creeper Gear                                               n   \n",
       "Unique Label?                                                    n   \n",
       "Air Aspiration Method Desc                                     NaN   \n",
       "Fuel Metering Sys Desc             spark ignition direct injection   \n",
       "Cyl Deact?                                                     NaN   \n",
       "\n",
       "                                                                      4  \n",
       "Eng Displ                                                           NaN  \n",
       "# Cyl                                                                 6  \n",
       "Comb Unadj FE - Conventional Fuel                               25.4694  \n",
       "# Gears                                                               6  \n",
       "Max Ethanol % - Gasoline                                           85.0  \n",
       "Intake Valves Per Cyl                                                 2  \n",
       "Exhaust Valves Per Cyl                                                2  \n",
       "Trans Creeper Gear                                                    n  \n",
       "Unique Label?                                                         n  \n",
       "Air Aspiration Method Desc                          naturally aspirated  \n",
       "Fuel Metering Sys Desc             multipoint/sequential fuel injection  \n",
       "Cyl Deact?                                                            n  "
      ]
     },
     "execution_count": 45,
     "metadata": {},
     "output_type": "execute_result"
    }
   ],
   "source": [
    "df_veh_copy_part3.head().T"
   ]
  },
  {
   "cell_type": "code",
   "execution_count": 46,
   "metadata": {},
   "outputs": [
    {
     "name": "stdout",
     "output_type": "stream",
     "text": [
      "<class 'pandas.core.frame.DataFrame'>\n",
      "Int64Index: 1210 entries, 0 to 1212\n",
      "Data columns (total 12 columns):\n",
      " #   Column                             Non-Null Count  Dtype  \n",
      "---  ------                             --------------  -----  \n",
      " 0   Eng Displ                          843 non-null    float64\n",
      " 1   # Cyl                              1210 non-null   int64  \n",
      " 2   Comb Unadj FE - Conventional Fuel  1210 non-null   float64\n",
      " 3   # Gears                            1210 non-null   int64  \n",
      " 4   Max Ethanol % - Gasoline           1187 non-null   float64\n",
      " 5   Intake Valves Per Cyl              1210 non-null   int64  \n",
      " 6   Exhaust Valves Per Cyl             1210 non-null   int64  \n",
      " 7   Trans Creeper Gear                 1210 non-null   object \n",
      " 8   Unique Label?                      1133 non-null   object \n",
      " 9   Air Aspiration Method Desc         685 non-null    object \n",
      " 10  Fuel Metering Sys Desc             839 non-null    object \n",
      " 11  Cyl Deact?                         684 non-null    object \n",
      "dtypes: float64(3), int64(4), object(5)\n",
      "memory usage: 122.9+ KB\n"
     ]
    }
   ],
   "source": [
    "df_veh_copy_part3.info()"
   ]
  },
  {
   "cell_type": "code",
   "execution_count": 47,
   "metadata": {},
   "outputs": [],
   "source": [
    "encoder = ce.OrdinalEncoder(cols=['Unique Label?','Air Aspiration Method Desc',\n",
    "                                  'Fuel Metering Sys Desc','Cyl Deact?','Trans Creeper Gear']\n",
    "                           )\n",
    "encoder.fit(df_veh_copy_part3)\n",
    "df_veh_copy_part3 = encoder.transform(df_veh_copy_part3)"
   ]
  },
  {
   "cell_type": "code",
   "execution_count": 48,
   "metadata": {},
   "outputs": [
    {
     "data": {
      "text/plain": [
       "array([1, 2, 3])"
      ]
     },
     "execution_count": 48,
     "metadata": {},
     "output_type": "execute_result"
    }
   ],
   "source": [
    "df_veh_copy_part3['Unique Label?'].unique()"
   ]
  },
  {
   "cell_type": "code",
   "execution_count": 49,
   "metadata": {},
   "outputs": [
    {
     "data": {
      "text/plain": [
       "array([1, 2, 3, 4, 5])"
      ]
     },
     "execution_count": 49,
     "metadata": {},
     "output_type": "execute_result"
    }
   ],
   "source": [
    "df_veh_copy_part3['Air Aspiration Method Desc'].unique()"
   ]
  },
  {
   "cell_type": "code",
   "execution_count": 50,
   "metadata": {},
   "outputs": [
    {
     "data": {
      "text/plain": [
       "array([1, 2, 3, 4, 5, 6])"
      ]
     },
     "execution_count": 50,
     "metadata": {},
     "output_type": "execute_result"
    }
   ],
   "source": [
    "df_veh_copy_part3['Fuel Metering Sys Desc'].unique()"
   ]
  },
  {
   "cell_type": "code",
   "execution_count": 51,
   "metadata": {},
   "outputs": [
    {
     "data": {
      "text/plain": [
       "array([1, 2, 3])"
      ]
     },
     "execution_count": 51,
     "metadata": {},
     "output_type": "execute_result"
    }
   ],
   "source": [
    "df_veh_copy_part3['Cyl Deact?'].unique()"
   ]
  },
  {
   "cell_type": "code",
   "execution_count": 52,
   "metadata": {},
   "outputs": [
    {
     "data": {
      "text/plain": [
       "array([1, 2])"
      ]
     },
     "execution_count": 52,
     "metadata": {},
     "output_type": "execute_result"
    }
   ],
   "source": [
    "df_veh_copy_part3['Trans Creeper Gear'].unique()"
   ]
  },
  {
   "cell_type": "markdown",
   "metadata": {},
   "source": [
    "### Part 4 - Numeric features\n",
    "\n",
    "In this part you should: \n",
    " - use Section 7.5.2 as a guide\n",
    " - handle any missing values\n",
    " \n",
    "#### Code (30 marks)"
   ]
  },
  {
   "cell_type": "code",
   "execution_count": 53,
   "metadata": {},
   "outputs": [],
   "source": [
    "df_veh_copy_part4 = df_veh_copy_part3.copy()"
   ]
  },
  {
   "cell_type": "code",
   "execution_count": 54,
   "metadata": {},
   "outputs": [
    {
     "data": {
      "text/html": [
       "<div>\n",
       "<style scoped>\n",
       "    .dataframe tbody tr th:only-of-type {\n",
       "        vertical-align: middle;\n",
       "    }\n",
       "\n",
       "    .dataframe tbody tr th {\n",
       "        vertical-align: top;\n",
       "    }\n",
       "\n",
       "    .dataframe thead th {\n",
       "        text-align: right;\n",
       "    }\n",
       "</style>\n",
       "<table border=\"1\" class=\"dataframe\">\n",
       "  <thead>\n",
       "    <tr style=\"text-align: right;\">\n",
       "      <th></th>\n",
       "      <th>0</th>\n",
       "      <th>1</th>\n",
       "      <th>2</th>\n",
       "      <th>3</th>\n",
       "      <th>4</th>\n",
       "    </tr>\n",
       "  </thead>\n",
       "  <tbody>\n",
       "    <tr>\n",
       "      <th>Eng Displ</th>\n",
       "      <td>NaN</td>\n",
       "      <td>NaN</td>\n",
       "      <td>1.8000</td>\n",
       "      <td>3.5000</td>\n",
       "      <td>NaN</td>\n",
       "    </tr>\n",
       "    <tr>\n",
       "      <th># Cyl</th>\n",
       "      <td>4.0000</td>\n",
       "      <td>4.0000</td>\n",
       "      <td>4.0000</td>\n",
       "      <td>6.0000</td>\n",
       "      <td>6.0000</td>\n",
       "    </tr>\n",
       "    <tr>\n",
       "      <th>Comb Unadj FE - Conventional Fuel</th>\n",
       "      <td>32.8729</td>\n",
       "      <td>41.5766</td>\n",
       "      <td>42.3624</td>\n",
       "      <td>29.3963</td>\n",
       "      <td>25.4694</td>\n",
       "    </tr>\n",
       "    <tr>\n",
       "      <th># Gears</th>\n",
       "      <td>6.0000</td>\n",
       "      <td>6.0000</td>\n",
       "      <td>6.0000</td>\n",
       "      <td>6.0000</td>\n",
       "      <td>6.0000</td>\n",
       "    </tr>\n",
       "    <tr>\n",
       "      <th>Max Ethanol % - Gasoline</th>\n",
       "      <td>10.0000</td>\n",
       "      <td>10.0000</td>\n",
       "      <td>15.0000</td>\n",
       "      <td>10.0000</td>\n",
       "      <td>85.0000</td>\n",
       "    </tr>\n",
       "    <tr>\n",
       "      <th>Intake Valves Per Cyl</th>\n",
       "      <td>2.0000</td>\n",
       "      <td>2.0000</td>\n",
       "      <td>2.0000</td>\n",
       "      <td>2.0000</td>\n",
       "      <td>2.0000</td>\n",
       "    </tr>\n",
       "    <tr>\n",
       "      <th>Exhaust Valves Per Cyl</th>\n",
       "      <td>2.0000</td>\n",
       "      <td>2.0000</td>\n",
       "      <td>2.0000</td>\n",
       "      <td>2.0000</td>\n",
       "      <td>2.0000</td>\n",
       "    </tr>\n",
       "    <tr>\n",
       "      <th>Trans Creeper Gear</th>\n",
       "      <td>1.0000</td>\n",
       "      <td>1.0000</td>\n",
       "      <td>1.0000</td>\n",
       "      <td>1.0000</td>\n",
       "      <td>1.0000</td>\n",
       "    </tr>\n",
       "    <tr>\n",
       "      <th>Unique Label?</th>\n",
       "      <td>1.0000</td>\n",
       "      <td>1.0000</td>\n",
       "      <td>1.0000</td>\n",
       "      <td>1.0000</td>\n",
       "      <td>1.0000</td>\n",
       "    </tr>\n",
       "    <tr>\n",
       "      <th>Air Aspiration Method Desc</th>\n",
       "      <td>1.0000</td>\n",
       "      <td>2.0000</td>\n",
       "      <td>2.0000</td>\n",
       "      <td>2.0000</td>\n",
       "      <td>1.0000</td>\n",
       "    </tr>\n",
       "    <tr>\n",
       "      <th>Fuel Metering Sys Desc</th>\n",
       "      <td>1.0000</td>\n",
       "      <td>2.0000</td>\n",
       "      <td>1.0000</td>\n",
       "      <td>2.0000</td>\n",
       "      <td>1.0000</td>\n",
       "    </tr>\n",
       "    <tr>\n",
       "      <th>Cyl Deact?</th>\n",
       "      <td>1.0000</td>\n",
       "      <td>1.0000</td>\n",
       "      <td>2.0000</td>\n",
       "      <td>2.0000</td>\n",
       "      <td>1.0000</td>\n",
       "    </tr>\n",
       "  </tbody>\n",
       "</table>\n",
       "</div>"
      ],
      "text/plain": [
       "                                         0        1        2        3        4\n",
       "Eng Displ                              NaN      NaN   1.8000   3.5000      NaN\n",
       "# Cyl                               4.0000   4.0000   4.0000   6.0000   6.0000\n",
       "Comb Unadj FE - Conventional Fuel  32.8729  41.5766  42.3624  29.3963  25.4694\n",
       "# Gears                             6.0000   6.0000   6.0000   6.0000   6.0000\n",
       "Max Ethanol % - Gasoline           10.0000  10.0000  15.0000  10.0000  85.0000\n",
       "Intake Valves Per Cyl               2.0000   2.0000   2.0000   2.0000   2.0000\n",
       "Exhaust Valves Per Cyl              2.0000   2.0000   2.0000   2.0000   2.0000\n",
       "Trans Creeper Gear                  1.0000   1.0000   1.0000   1.0000   1.0000\n",
       "Unique Label?                       1.0000   1.0000   1.0000   1.0000   1.0000\n",
       "Air Aspiration Method Desc          1.0000   2.0000   2.0000   2.0000   1.0000\n",
       "Fuel Metering Sys Desc              1.0000   2.0000   1.0000   2.0000   1.0000\n",
       "Cyl Deact?                          1.0000   1.0000   2.0000   2.0000   1.0000"
      ]
     },
     "execution_count": 54,
     "metadata": {},
     "output_type": "execute_result"
    }
   ],
   "source": [
    "df_veh_copy_part4.head().T"
   ]
  },
  {
   "cell_type": "code",
   "execution_count": 55,
   "metadata": {},
   "outputs": [],
   "source": [
    "def fix_missing_num(df, colname):\n",
    "    df[colname+'_na'] = pd.isnull(df[colname])\n",
    "    df[colname].fillna(df[colname].median(), inplace=True)"
   ]
  },
  {
   "cell_type": "code",
   "execution_count": 56,
   "metadata": {},
   "outputs": [],
   "source": [
    "fix_missing_num(df_veh_copy_part4,'Eng Displ')"
   ]
  },
  {
   "cell_type": "code",
   "execution_count": 57,
   "metadata": {},
   "outputs": [],
   "source": [
    "fix_missing_num(df_veh_copy_part4,'Max Ethanol % - Gasoline')"
   ]
  },
  {
   "cell_type": "code",
   "execution_count": 58,
   "metadata": {},
   "outputs": [
    {
     "data": {
      "text/html": [
       "<div>\n",
       "<style scoped>\n",
       "    .dataframe tbody tr th:only-of-type {\n",
       "        vertical-align: middle;\n",
       "    }\n",
       "\n",
       "    .dataframe tbody tr th {\n",
       "        vertical-align: top;\n",
       "    }\n",
       "\n",
       "    .dataframe thead th {\n",
       "        text-align: right;\n",
       "    }\n",
       "</style>\n",
       "<table border=\"1\" class=\"dataframe\">\n",
       "  <thead>\n",
       "    <tr style=\"text-align: right;\">\n",
       "      <th></th>\n",
       "      <th>data type</th>\n",
       "      <th>percent missing</th>\n",
       "      <th>No. unique</th>\n",
       "      <th>unique values</th>\n",
       "    </tr>\n",
       "  </thead>\n",
       "  <tbody>\n",
       "    <tr>\n",
       "      <th>Eng Displ_na</th>\n",
       "      <td>bool</td>\n",
       "      <td>0.0</td>\n",
       "      <td>2</td>\n",
       "      <td>[True, False]</td>\n",
       "    </tr>\n",
       "    <tr>\n",
       "      <th>Max Ethanol % - Gasoline_na</th>\n",
       "      <td>bool</td>\n",
       "      <td>0.0</td>\n",
       "      <td>2</td>\n",
       "      <td>[False, True]</td>\n",
       "    </tr>\n",
       "    <tr>\n",
       "      <th>Trans Creeper Gear</th>\n",
       "      <td>int32</td>\n",
       "      <td>0.0</td>\n",
       "      <td>2</td>\n",
       "      <td>[1, 2]</td>\n",
       "    </tr>\n",
       "    <tr>\n",
       "      <th>Unique Label?</th>\n",
       "      <td>int32</td>\n",
       "      <td>0.0</td>\n",
       "      <td>3</td>\n",
       "      <td>[1, 2, 3]</td>\n",
       "    </tr>\n",
       "    <tr>\n",
       "      <th>Air Aspiration Method Desc</th>\n",
       "      <td>int32</td>\n",
       "      <td>0.0</td>\n",
       "      <td>5</td>\n",
       "      <td>[1, 2, 3, 4, 5]</td>\n",
       "    </tr>\n",
       "    <tr>\n",
       "      <th>Fuel Metering Sys Desc</th>\n",
       "      <td>int32</td>\n",
       "      <td>0.0</td>\n",
       "      <td>6</td>\n",
       "      <td>[1, 2, 3, 4, 5, 6]</td>\n",
       "    </tr>\n",
       "    <tr>\n",
       "      <th>Cyl Deact?</th>\n",
       "      <td>int32</td>\n",
       "      <td>0.0</td>\n",
       "      <td>3</td>\n",
       "      <td>[1, 2, 3]</td>\n",
       "    </tr>\n",
       "    <tr>\n",
       "      <th># Cyl</th>\n",
       "      <td>int64</td>\n",
       "      <td>0.0</td>\n",
       "      <td>7</td>\n",
       "      <td>[4, 6, 12, 8, 3, 10, 5]</td>\n",
       "    </tr>\n",
       "    <tr>\n",
       "      <th># Gears</th>\n",
       "      <td>int64</td>\n",
       "      <td>0.0</td>\n",
       "      <td>7</td>\n",
       "      <td>[6, 8, 7, 9, 5, 1, 4]</td>\n",
       "    </tr>\n",
       "    <tr>\n",
       "      <th>Intake Valves Per Cyl</th>\n",
       "      <td>int64</td>\n",
       "      <td>0.0</td>\n",
       "      <td>2</td>\n",
       "      <td>[2, 1]</td>\n",
       "    </tr>\n",
       "    <tr>\n",
       "      <th>Exhaust Valves Per Cyl</th>\n",
       "      <td>int64</td>\n",
       "      <td>0.0</td>\n",
       "      <td>2</td>\n",
       "      <td>[2, 1]</td>\n",
       "    </tr>\n",
       "    <tr>\n",
       "      <th>Eng Displ</th>\n",
       "      <td>float64</td>\n",
       "      <td>0.0</td>\n",
       "      <td>42</td>\n",
       "      <td>[3.0, 1.8, 3.5, 3.4, 2.5, 2.0, 6.3, 6.2, 1.5, ...</td>\n",
       "    </tr>\n",
       "    <tr>\n",
       "      <th>Comb Unadj FE - Conventional Fuel</th>\n",
       "      <td>float64</td>\n",
       "      <td>0.0</td>\n",
       "      <td>929</td>\n",
       "      <td>[32.8729, 41.5766, 42.3624, 29.3963, 25.4694, ...</td>\n",
       "    </tr>\n",
       "    <tr>\n",
       "      <th>Max Ethanol % - Gasoline</th>\n",
       "      <td>float64</td>\n",
       "      <td>0.0</td>\n",
       "      <td>3</td>\n",
       "      <td>[10.0, 15.0, 85.0]</td>\n",
       "    </tr>\n",
       "  </tbody>\n",
       "</table>\n",
       "</div>"
      ],
      "text/plain": [
       "                                  data type  percent missing  No. unique  \\\n",
       "Eng Displ_na                           bool              0.0           2   \n",
       "Max Ethanol % - Gasoline_na            bool              0.0           2   \n",
       "Trans Creeper Gear                    int32              0.0           2   \n",
       "Unique Label?                         int32              0.0           3   \n",
       "Air Aspiration Method Desc            int32              0.0           5   \n",
       "Fuel Metering Sys Desc                int32              0.0           6   \n",
       "Cyl Deact?                            int32              0.0           3   \n",
       "# Cyl                                 int64              0.0           7   \n",
       "# Gears                               int64              0.0           7   \n",
       "Intake Valves Per Cyl                 int64              0.0           2   \n",
       "Exhaust Valves Per Cyl                int64              0.0           2   \n",
       "Eng Displ                           float64              0.0          42   \n",
       "Comb Unadj FE - Conventional Fuel   float64              0.0         929   \n",
       "Max Ethanol % - Gasoline            float64              0.0           3   \n",
       "\n",
       "                                                                       unique values  \n",
       "Eng Displ_na                                                           [True, False]  \n",
       "Max Ethanol % - Gasoline_na                                            [False, True]  \n",
       "Trans Creeper Gear                                                            [1, 2]  \n",
       "Unique Label?                                                              [1, 2, 3]  \n",
       "Air Aspiration Method Desc                                           [1, 2, 3, 4, 5]  \n",
       "Fuel Metering Sys Desc                                            [1, 2, 3, 4, 5, 6]  \n",
       "Cyl Deact?                                                                 [1, 2, 3]  \n",
       "# Cyl                                                        [4, 6, 12, 8, 3, 10, 5]  \n",
       "# Gears                                                        [6, 8, 7, 9, 5, 1, 4]  \n",
       "Intake Valves Per Cyl                                                         [2, 1]  \n",
       "Exhaust Valves Per Cyl                                                        [2, 1]  \n",
       "Eng Displ                          [3.0, 1.8, 3.5, 3.4, 2.5, 2.0, 6.3, 6.2, 1.5, ...  \n",
       "Comb Unadj FE - Conventional Fuel  [32.8729, 41.5766, 42.3624, 29.3963, 25.4694, ...  \n",
       "Max Ethanol % - Gasoline                                          [10.0, 15.0, 85.0]  "
      ]
     },
     "execution_count": 58,
     "metadata": {},
     "output_type": "execute_result"
    }
   ],
   "source": [
    "sniff_modified(df_veh_copy_part4)"
   ]
  },
  {
   "cell_type": "markdown",
   "metadata": {},
   "source": [
    "### Part 5 - Create and evaluate a final model\n",
    "\n",
    "In this part you should:\n",
    " - create and evaluate a model using all the features after processing them in Parts 2, 3, and 4 above \n",
    "\n",
    "#### Code (10 marks)"
   ]
  },
  {
   "cell_type": "code",
   "execution_count": 59,
   "metadata": {},
   "outputs": [],
   "source": [
    "df_veh_copy_part5 = df_veh_copy_part4.copy()"
   ]
  },
  {
   "cell_type": "code",
   "execution_count": 60,
   "metadata": {},
   "outputs": [
    {
     "data": {
      "text/html": [
       "<div>\n",
       "<style scoped>\n",
       "    .dataframe tbody tr th:only-of-type {\n",
       "        vertical-align: middle;\n",
       "    }\n",
       "\n",
       "    .dataframe tbody tr th {\n",
       "        vertical-align: top;\n",
       "    }\n",
       "\n",
       "    .dataframe thead th {\n",
       "        text-align: right;\n",
       "    }\n",
       "</style>\n",
       "<table border=\"1\" class=\"dataframe\">\n",
       "  <thead>\n",
       "    <tr style=\"text-align: right;\">\n",
       "      <th></th>\n",
       "      <th>0</th>\n",
       "      <th>1</th>\n",
       "      <th>2</th>\n",
       "      <th>3</th>\n",
       "      <th>4</th>\n",
       "    </tr>\n",
       "  </thead>\n",
       "  <tbody>\n",
       "    <tr>\n",
       "      <th>Eng Displ</th>\n",
       "      <td>3.0</td>\n",
       "      <td>3.0</td>\n",
       "      <td>1.8</td>\n",
       "      <td>3.5</td>\n",
       "      <td>3.0</td>\n",
       "    </tr>\n",
       "    <tr>\n",
       "      <th># Cyl</th>\n",
       "      <td>4</td>\n",
       "      <td>4</td>\n",
       "      <td>4</td>\n",
       "      <td>6</td>\n",
       "      <td>6</td>\n",
       "    </tr>\n",
       "    <tr>\n",
       "      <th>Comb Unadj FE - Conventional Fuel</th>\n",
       "      <td>32.8729</td>\n",
       "      <td>41.5766</td>\n",
       "      <td>42.3624</td>\n",
       "      <td>29.3963</td>\n",
       "      <td>25.4694</td>\n",
       "    </tr>\n",
       "    <tr>\n",
       "      <th># Gears</th>\n",
       "      <td>6</td>\n",
       "      <td>6</td>\n",
       "      <td>6</td>\n",
       "      <td>6</td>\n",
       "      <td>6</td>\n",
       "    </tr>\n",
       "    <tr>\n",
       "      <th>Max Ethanol % - Gasoline</th>\n",
       "      <td>10.0</td>\n",
       "      <td>10.0</td>\n",
       "      <td>15.0</td>\n",
       "      <td>10.0</td>\n",
       "      <td>85.0</td>\n",
       "    </tr>\n",
       "    <tr>\n",
       "      <th>Intake Valves Per Cyl</th>\n",
       "      <td>2</td>\n",
       "      <td>2</td>\n",
       "      <td>2</td>\n",
       "      <td>2</td>\n",
       "      <td>2</td>\n",
       "    </tr>\n",
       "    <tr>\n",
       "      <th>Exhaust Valves Per Cyl</th>\n",
       "      <td>2</td>\n",
       "      <td>2</td>\n",
       "      <td>2</td>\n",
       "      <td>2</td>\n",
       "      <td>2</td>\n",
       "    </tr>\n",
       "    <tr>\n",
       "      <th>Trans Creeper Gear</th>\n",
       "      <td>1</td>\n",
       "      <td>1</td>\n",
       "      <td>1</td>\n",
       "      <td>1</td>\n",
       "      <td>1</td>\n",
       "    </tr>\n",
       "    <tr>\n",
       "      <th>Unique Label?</th>\n",
       "      <td>1</td>\n",
       "      <td>1</td>\n",
       "      <td>1</td>\n",
       "      <td>1</td>\n",
       "      <td>1</td>\n",
       "    </tr>\n",
       "    <tr>\n",
       "      <th>Air Aspiration Method Desc</th>\n",
       "      <td>1</td>\n",
       "      <td>2</td>\n",
       "      <td>2</td>\n",
       "      <td>2</td>\n",
       "      <td>1</td>\n",
       "    </tr>\n",
       "    <tr>\n",
       "      <th>Fuel Metering Sys Desc</th>\n",
       "      <td>1</td>\n",
       "      <td>2</td>\n",
       "      <td>1</td>\n",
       "      <td>2</td>\n",
       "      <td>1</td>\n",
       "    </tr>\n",
       "    <tr>\n",
       "      <th>Cyl Deact?</th>\n",
       "      <td>1</td>\n",
       "      <td>1</td>\n",
       "      <td>2</td>\n",
       "      <td>2</td>\n",
       "      <td>1</td>\n",
       "    </tr>\n",
       "    <tr>\n",
       "      <th>Eng Displ_na</th>\n",
       "      <td>True</td>\n",
       "      <td>True</td>\n",
       "      <td>False</td>\n",
       "      <td>False</td>\n",
       "      <td>True</td>\n",
       "    </tr>\n",
       "    <tr>\n",
       "      <th>Max Ethanol % - Gasoline_na</th>\n",
       "      <td>False</td>\n",
       "      <td>False</td>\n",
       "      <td>False</td>\n",
       "      <td>False</td>\n",
       "      <td>False</td>\n",
       "    </tr>\n",
       "  </tbody>\n",
       "</table>\n",
       "</div>"
      ],
      "text/plain": [
       "                                         0        1        2        3        4\n",
       "Eng Displ                              3.0      3.0      1.8      3.5      3.0\n",
       "# Cyl                                    4        4        4        6        6\n",
       "Comb Unadj FE - Conventional Fuel  32.8729  41.5766  42.3624  29.3963  25.4694\n",
       "# Gears                                  6        6        6        6        6\n",
       "Max Ethanol % - Gasoline              10.0     10.0     15.0     10.0     85.0\n",
       "Intake Valves Per Cyl                    2        2        2        2        2\n",
       "Exhaust Valves Per Cyl                   2        2        2        2        2\n",
       "Trans Creeper Gear                       1        1        1        1        1\n",
       "Unique Label?                            1        1        1        1        1\n",
       "Air Aspiration Method Desc               1        2        2        2        1\n",
       "Fuel Metering Sys Desc                   1        2        1        2        1\n",
       "Cyl Deact?                               1        1        2        2        1\n",
       "Eng Displ_na                          True     True    False    False     True\n",
       "Max Ethanol % - Gasoline_na          False    False    False    False    False"
      ]
     },
     "execution_count": 60,
     "metadata": {},
     "output_type": "execute_result"
    }
   ],
   "source": [
    "df_veh_copy_part5.head().T"
   ]
  },
  {
   "cell_type": "code",
   "execution_count": 61,
   "metadata": {},
   "outputs": [],
   "source": [
    "X_final=df_veh_copy_part5.drop(['Comb Unadj FE - Conventional Fuel'],axis=1)\n",
    "y_final = df_veh_copy_part5['Comb Unadj FE - Conventional Fuel']"
   ]
  },
  {
   "cell_type": "code",
   "execution_count": 62,
   "metadata": {},
   "outputs": [
    {
     "name": "stdout",
     "output_type": "stream",
     "text": [
      "(1210, 13) (1210,)\n"
     ]
    }
   ],
   "source": [
    "print(X_final.shape,y_final.shape)"
   ]
  },
  {
   "cell_type": "code",
   "execution_count": 63,
   "metadata": {},
   "outputs": [
    {
     "name": "stdout",
     "output_type": "stream",
     "text": [
      "OOB R^2 is 0.76782 using 155672 tree nodes with 18.0 median tree depth\n",
      "OOB R^2 is 0.76772 using 155884 tree nodes with 18.0 median tree depth\n",
      "OOB R^2 is 0.76619 using 155398 tree nodes with 18.0 median tree depth\n",
      "OOB R^2 is 0.76855 using 156144 tree nodes with 18.0 median tree depth\n",
      "OOB R^2 is 0.76417 using 156102 tree nodes with 18.0 median tree depth\n",
      "OOB R^2 is 0.76807 using 155840 tree nodes with 18.0 median tree depth\n",
      "OOB R^2 is 0.76787 using 155676 tree nodes with 18.0 median tree depth\n",
      "OOB R^2 is 0.76448 using 155398 tree nodes with 18.0 median tree depth\n",
      "OOB R^2 is 0.76594 using 155784 tree nodes with 18.0 median tree depth\n",
      "OOB R^2 is 0.76711 using 155996 tree nodes with 18.0 median tree depth\n",
      "--------------------------------------------------------------------------------------\n",
      "Average of OOB R^2 is 0.76679 using average 155789 tree nodes with average 18.0 median tree depth\n"
     ]
    }
   ],
   "source": [
    "rf_final,oob_score_final = evaluate(X_final,y_final)"
   ]
  },
  {
   "cell_type": "code",
   "execution_count": 64,
   "metadata": {},
   "outputs": [
    {
     "data": {
      "image/png": "[encoded data removed]",
      "text/plain": [
       "<Figure size 400x288 with 1 Axes>"
      ]
     },
     "metadata": {},
     "output_type": "display_data"
    }
   ],
   "source": [
    "showimp(rf_final,X_final,y_final)"
   ]
  },
  {
   "cell_type": "markdown",
   "metadata": {},
   "source": [
    "#### Questions (5 marks)\n",
    "\n",
    "Provide answers to the following:\n",
    " 1. calculate the percent difference between the results of Part 1 and Part 5 (make sure you are using the correct formula for percent difference) \n",
    " 2. based on the percent difference, state whether or not the results of Part 5 are an improvement over the results of Part 1"
   ]
  },
  {
   "cell_type": "markdown",
   "metadata": {},
   "source": [
    "**Enter your answers here:**"
   ]
  },
  {
   "cell_type": "code",
   "execution_count": 65,
   "metadata": {},
   "outputs": [
    {
     "name": "stdout",
     "output_type": "stream",
     "text": [
      "The actual percentage difference is:  1.44 %\n",
      "The relative percentage difference is:  0.36 %\n"
     ]
    }
   ],
   "source": [
    "actual_percent_diff = (abs(oob_score_final - oob_score_baseline) / oob_score_baseline) * 100\n",
    "relative_percent_diff = (abs(oob_score_final - oob_score_baseline) / (oob_score_final + oob_score_baseline) / 2) * 100\n",
    "\n",
    "print(\"The actual percentage difference is: \", f\"{actual_percent_diff:.2f} %\")\n",
    "print(\"The relative percentage difference is: \", f\"{relative_percent_diff:.2f} %\")"
   ]
  },
  {
   "cell_type": "markdown",
   "metadata": {},
   "source": [
    "#### Based on our analysis we can conclude that performance of our model declined by 1.44 % and complexity increases. Number of tree nodes and median of tree depth increases abruptly. "
   ]
  },
  {
   "cell_type": "code",
   "execution_count": null,
   "metadata": {},
   "outputs": [],
   "source": []
  }
 ],
 "metadata": {
  "kernelspec": {
   "display_name": "Python 3 (ipykernel)",
   "language": "python",
   "name": "python3"
  },
  "language_info": {
   "codemirror_mode": {
    "name": "ipython",
    "version": 3
   },
   "file_extension": ".py",
   "mimetype": "text/x-python",
   "name": "python",
   "nbconvert_exporter": "python",
   "pygments_lexer": "ipython3",
   "version": "3.10.8"
  }
 },
 "nbformat": 4,
 "nbformat_minor": 4
}
